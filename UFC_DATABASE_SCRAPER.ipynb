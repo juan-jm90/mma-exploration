{
  "nbformat": 4,
  "nbformat_minor": 0,
  "metadata": {
    "colab": {
      "provenance": []
    },
    "kernelspec": {
      "name": "python3",
      "display_name": "Python 3"
    },
    "language_info": {
      "name": "python"
    }
  },
  "cells": [
    {
      "cell_type": "markdown",
      "source": [
        "# Create list of event links"
      ],
      "metadata": {
        "id": "sdDtYikwJOFi"
      }
    },
    {
      "cell_type": "code",
      "source": [
        "import requests\n",
        "from requests import get\n",
        "from bs4 import BeautifulSoup\n",
        "import pandas as pd\n",
        "import unicodedata\n",
        "import time\n",
        "import re\n",
        "import random\n",
        "from google.colab import drive\n",
        "\n",
        "drive.mount('/content/drive')\n",
        "\n",
        "url = 'https://www.tapology.com/search?term=UFC&commit=Enviar&model%5Bevents%5D=eventsSearch'\n",
        "\n",
        "\n",
        "#This function requests the html from the site and returns it in string form \n",
        "\n",
        "def get_page_info(with_user_agent: bool, url):\n",
        "    user_agents = ['Mozilla/5.0 (X11; Linux x86_64; rv:86.0) Gecko/20100101 Firefox/86.0','Mozilla/5.0 (Windows NT 10.0; Win64; x64) AppleWebKit/537.36 (KHTML, like Gecko) Chrome/42.0.2311.135 Safari/537.36 Edge/12.246', 'Mozilla/5.0 (Windows NT 6.1; WOW64) AppleWebKit/537.36 (KHTML, like Gecko) Chrome/47.0.2526.111 Safari/537.36','Mozilla/5.0 (Macintosh; Intel Mac OS X 10_11_2) AppleWebKit/601.3.9 (KHTML, like Gecko) Version/9.0.2 Safari/601.3.9','Mozilla/5.0 (X11; Ubuntu; Linux x86_64; rv:15.0) Gecko/20100101 Firefox/15.0.1','Mozilla/5.0 (X11; CrOS x86_64 8172.45.0) AppleWebKit/537.36 (KHTML, like Gecko) Chrome/51.0.2704.64 Safari/537.36']\n",
        "    if with_user_agent:\n",
        "        random_user = random.randint(0,5)\n",
        "        headers = {'User-Agent': user_agents[random_user]}\n",
        "    else:\n",
        "        headers = {}\n",
        "\n",
        "    r = get(url, headers=headers)\n",
        "    r.raise_for_status()\n",
        "    if r.status_code == 503:\n",
        "        print(\"A 503 error has occurred\")\n",
        "        sys.exit()\n",
        "    soup = BeautifulSoup(r.text, features='html.parser')\n",
        "    #print(soup)\n",
        "    return str(soup)\n",
        "\n",
        "#This function applies the gpi function to a search tapology page and returns a list of all the event links in it\n",
        "\n",
        "def scrape_event_links(event_link):\n",
        "  page = get_page_info(True, event_link)\n",
        "  event_links = re.findall('/fightcenter/events/.+\"',page)\n",
        "  event_links = ['https://www.tapology.com'+x for x in event_links]\n",
        "  event_links = [x.replace(\"\\\"\" , '') for x in event_links]\n",
        "  event_links = list(dict.fromkeys(event_links))\n",
        "  #ESSA É UMA GAMBIARRA\n",
        "  #event_links = event_links[13:]\n",
        "  print(event_links)\n",
        "  return event_links \n",
        "\n",
        "#The list of links are stored in ufc_event_links\n",
        "\n",
        "ufc_events_links = scrape_event_links(url)\n"
      ],
      "metadata": {
        "colab": {
          "base_uri": "https://localhost:8080/"
        },
        "id": "BU5sZ83GJG5N",
        "outputId": "3b5dc841-8602-4ee5-d26d-081e693e0e8a"
      },
      "execution_count": null,
      "outputs": [
        {
          "output_type": "stream",
          "name": "stdout",
          "text": [
            "Mounted at /content/drive\n",
            "['https://www.tapology.com/fightcenter/events/99416-ufc-294', 'https://www.tapology.com/fightcenter/events/99813-ufc-fight-night', 'https://www.tapology.com/fightcenter/events/98868-ufc-290', 'https://www.tapology.com/fightcenter/events/99780-ufc-fight-night', 'https://www.tapology.com/fightcenter/events/99705-ufc-fight-night', 'https://www.tapology.com/fightcenter/events/99346-ufc-289', 'https://www.tapology.com/fightcenter/events/99119-ufc-fight-night', 'https://www.tapology.com/fightcenter/events/98571-ufc-fight-night', 'https://www.tapology.com/fightcenter/events/98223-ufc-fight-night', 'https://www.tapology.com/fightcenter/events/97782-ufc-fight-night', 'https://www.tapology.com/fightcenter/events/97740-ufc-fight-night', 'https://www.tapology.com/fightcenter/events/97433-ufc-fight-night', 'https://www.tapology.com/fightcenter/events/97461-ufc-fight-night', 'https://www.tapology.com/fightcenter/events/96871-ufc-287', 'https://www.tapology.com/fightcenter/events/96078-ufc-fight-night', 'https://www.tapology.com/fightcenter/events/95408-ufc-286', 'https://www.tapology.com/fightcenter/events/95455-ufc-fight-night-smith-vs-hill', 'https://www.tapology.com/fightcenter/events/94418-ufc-285', 'https://www.tapology.com/fightcenter/events/95023-ufc-fight-night', 'https://www.tapology.com/fightcenter/events/94589-ufc-fight-night', 'https://www.tapology.com/fightcenter/events/93764-ufc-284', 'https://www.tapology.com/fightcenter/events/93977-ufc-fight-night', 'https://www.tapology.com/fightcenter/events/92055-ufc-283', 'https://www.tapology.com/fightcenter/events/93279-ufc-fight-night', 'https://www.tapology.com/fightcenter/events/92365-ufc-fight-night', 'https://www.tapology.com/fightcenter/events/94529-ufc-fight-pass-invitational-3', 'https://www.tapology.com/fightcenter/events/92214-ufc-282', 'https://www.tapology.com/fightcenter/events/91801-ufc-fight-night', 'https://www.tapology.com/fightcenter/events/91976-ufc-fight-night', 'https://www.tapology.com/fightcenter/events/91828-ufc-281', 'https://www.tapology.com/fightcenter/events/91921-ufc-fight-night', 'https://www.tapology.com/fightcenter/events/91651-ufc-fight-night', 'https://www.tapology.com/fightcenter/events/93008-road-to-ufc-abu-dhabi-episode-6', 'https://www.tapology.com/fightcenter/events/93007-road-to-ufc-abu-dhabi-episode-5', 'https://www.tapology.com/fightcenter/events/87755-ufc-281', 'https://www.tapology.com/fightcenter/events/90713-ufc-fight-night', 'https://www.tapology.com/fightcenter/events/89894-ufc-fight-night', 'https://www.tapology.com/fightcenter/events/89503-contender-series-2022-week-10', 'https://www.tapology.com/fightcenter/events/89502-contender-series-2022-week-9', 'https://www.tapology.com/fightcenter/events/90191-ufc-fight-night', 'https://www.tapology.com/fightcenter/events/89501-contender-series-2022-week-8', 'https://www.tapology.com/fightcenter/events/89492-ufc-fight-night', 'https://www.tapology.com/fightcenter/events/89500-contender-series-2022-week-7', 'https://www.tapology.com/fightcenter/events/88967-ufc-fight-night', 'https://www.tapology.com/fightcenter/events/89499-contender-series-2022-week-6', 'https://www.tapology.com/fightcenter/events/89498-contender-series-2022-week-5', 'https://www.tapology.com/fightcenter/events/89354-ufc-fight-night', 'https://www.tapology.com/fightcenter/events/89496-contender-series-2022-week-4', 'https://www.tapology.com/fightcenter/events/89355-ufc-fight-night', 'https://www.tapology.com/fightcenter/events/89495-contender-series-2021-week-3', 'https://www.tapology.com/fightcenter/events/89111-ufc-fight-night-santos-vs-hill', 'https://www.tapology.com/fightcenter/events/89494-contender-series-2022', 'https://www.tapology.com/fightcenter/events/87975-ufc-fight-night', 'https://www.tapology.com/fightcenter/events/89493-contender-series-2022-week-1', 'https://www.tapology.com/fightcenter/events/88711-ufc-fight-night', 'https://www.tapology.com/fightcenter/events/91395-the-ultimate-fighter-season-30-nunes-vs-pena', 'https://www.tapology.com/fightcenter/events/88485-ufc-fight-night', 'https://www.tapology.com/fightcenter/events/91394-the-ultimate-fighter-season-30-nunes-vs-pena', 'https://www.tapology.com/fightcenter/events/88397-ufc-fight-night', 'https://www.tapology.com/fightcenter/events/91393-the-ultimate-fighter-season-30-nunes-vs-pena', 'https://www.tapology.com/fightcenter/events/90707-ufc-fight-pass-invitational-2', 'https://www.tapology.com/fightcenter/events/87604-ufc-276', 'https://www.tapology.com/fightcenter/events/91392-the-ultimate-fighter-season-30-nunes-vs-pena', 'https://www.tapology.com/fightcenter/events/87971-ufc-fight-night', 'https://www.tapology.com/fightcenter/events/91391-the-ultimate-fighter-season-30-nunes-vs-pena', 'https://www.tapology.com/fightcenter/events/88108-ufc-fight-night', 'https://www.tapology.com/fightcenter/events/91390-the-ultimate-fighter-season-30-nunes-vs-pena', 'https://www.tapology.com/fightcenter/events/87286-ufc-275-teixeira-vs-prochazka', 'https://www.tapology.com/fightcenter/events/89906-road-to-ufc-singapore-episode-4', 'https://www.tapology.com/fightcenter/events/89905-road-to-ufc-singapore-episode-3', 'https://www.tapology.com/fightcenter/events/88730-road-to-ufc-singapore-day-2', 'https://www.tapology.com/fightcenter/events/88729-road-to-ufc-singapore-day-1', 'https://www.tapology.com/fightcenter/events/91389-the-ultimate-fighter-season-30-nunes-vs-pena', 'https://www.tapology.com/fightcenter/events/86746-ufc-fight-night', 'https://www.tapology.com/fightcenter/events/91388-the-ultimate-fighter-season-30-nunes-vs-pena', 'https://www.tapology.com/fightcenter/events/91387-the-ultimate-fighter-season-30', 'https://www.tapology.com/fightcenter/events/86509-ufc-fight-night', 'https://www.tapology.com/fightcenter/events/91386-the-ultimate-fighter-season-30-nunes-vs-pena', 'https://www.tapology.com/fightcenter/events/85916-ufc-fight-night', 'https://www.tapology.com/fightcenter/events/91385-the-ultimate-fighter-season-30-nunes-vs-pena', 'https://www.tapology.com/fightcenter/events/85253-ufc-274', 'https://www.tapology.com/fightcenter/events/91384-the-ultimate-fighter-season-30-nunes-vs-pena', 'https://www.tapology.com/fightcenter/events/86142-ufc-fight-night', 'https://www.tapology.com/fightcenter/events/86013-ufc-fight-night', 'https://www.tapology.com/fightcenter/events/85814-ufc-fight-night', 'https://www.tapology.com/fightcenter/events/85306-ufc-fight-night', 'https://www.tapology.com/fightcenter/events/84285-ufc-fight-night', 'https://www.tapology.com/fightcenter/events/83999-ufc-fight-night', 'https://www.tapology.com/fightcenter/events/84364-ufc-fight-night', 'https://www.tapology.com/fightcenter/events/84662-ufc-fight-night', 'https://www.tapology.com/fightcenter/events/83426-ufc-fight-night', 'https://www.tapology.com/fightcenter/events/83406-ufc-fight-night', 'https://www.tapology.com/fightcenter/events/96858-osh-fight-night-2022', 'https://www.tapology.com/fightcenter/events/83288-ufc-271', 'https://www.tapology.com/fightcenter/events/83125-ufc-fight-night', 'https://www.tapology.com/fightcenter/events/82993-ufc-270', 'https://www.tapology.com/fightcenter/events/82805-ufc-fight-night', 'https://www.tapology.com/fightcenter/events/82070-ufc-fight-night', 'https://www.tapology.com/fightcenter/events/85263-ufc-fight-pass-invitational', 'https://www.tapology.com/fightcenter/events/81603-ufc-fight-night', 'https://www.tapology.com/fightcenter/events/82179-ufc-fight-night', 'https://www.tapology.com/fightcenter/events/86121-kamate-mma-2-1', 'https://www.tapology.com/fightcenter/events/81602-ufc-fight-night', 'https://www.tapology.com/fightcenter/events/81601-ufc-fight-night', 'https://www.tapology.com/fightcenter/events/81402-ufc-268-usman-vs-covington-2', 'https://www.tapology.com/fightcenter/events/81550-contender-series-2021-week-10', 'https://www.tapology.com/fightcenter/events/80222-ufc-267', 'https://www.tapology.com/fightcenter/events/81548-contender-series-2021-week-9', 'https://www.tapology.com/fightcenter/events/81267-ufc-fight-night', 'https://www.tapology.com/fightcenter/events/79535-contender-series-2021', 'https://www.tapology.com/fightcenter/events/80539-ufc-fight-night', 'https://www.tapology.com/fightcenter/events/79398-contender-series-2021', 'https://www.tapology.com/fightcenter/events/80131-ufc-fight-night', 'https://www.tapology.com/fightcenter/events/79437-contender-series-2021', 'https://www.tapology.com/fightcenter/events/79693-ufc-fight-night', 'https://www.tapology.com/fightcenter/events/78724-contender-series-2021', 'https://www.tapology.com/fightcenter/events/78601-ufc-266', 'https://www.tapology.com/fightcenter/events/78723-contender-series-2021', 'https://www.tapology.com/fightcenter/events/79258-ufc-fight-night', 'https://www.tapology.com/fightcenter/events/78722-contender-series-2021', 'https://www.tapology.com/fightcenter/events/79436-contender-series-2021', 'https://www.tapology.com/fightcenter/events/82340-campeonato-interclubes-ocamm-ufc-ultimate-figthing-club', 'https://www.tapology.com/fightcenter/events/79654-ufc-fight-night', 'https://www.tapology.com/fightcenter/events/78721-contender-series-2021', 'https://www.tapology.com/fightcenter/events/79108-ufc-fight-night', 'https://www.tapology.com/fightcenter/events/79118-ufc-fight-night', 'https://www.tapology.com/fightcenter/events/79193-ufc-fight-night-brunson-vs-till', 'https://www.tapology.com/fightcenter/events/78675-ufc-265', 'https://www.tapology.com/fightcenter/events/78698-ufc-fight-night', 'https://www.tapology.com/fightcenter/events/78477-ufc-fight-night', 'https://www.tapology.com/fightcenter/events/78130-ufc-fight-night', 'https://www.tapology.com/fightcenter/events/81001-unity-fight-night-1', 'https://www.tapology.com/fightcenter/events/78106-ufc-264', 'https://www.tapology.com/fightcenter/events/77763-ufc-fight-night', 'https://www.tapology.com/fightcenter/events/77656-ufc-fight-night', 'https://www.tapology.com/fightcenter/events/77570-ufc-263', 'https://www.tapology.com/fightcenter/events/77692-ufc-fight-night', 'https://www.tapology.com/fightcenter/events/77264-ufc-fight-night', 'https://www.tapology.com/fightcenter/events/78753-lion-fight-66-walker-vs-tubbs', 'https://www.tapology.com/fightcenter/events/82729-the-ultimate-fighter-season-28-the-return-of-the-ultimate-fighter', 'https://www.tapology.com/fightcenter/events/77263-ufc-fight-night', 'https://www.tapology.com/fightcenter/events/76941-ufc-fight-night', 'https://www.tapology.com/fightcenter/events/82728-the-ultimate-fighter-season-28-the-return-of-the-ultimate-fighter', 'https://www.tapology.com/fightcenter/events/76888-ufc-fight-night', 'https://www.tapology.com/fightcenter/events/82727-the-ultimate-fighter-season-28-the-return-of-the-ultimate-fighter', 'https://www.tapology.com/fightcenter/events/76694-ufc-fight-night', 'https://www.tapology.com/fightcenter/events/76103-ufc-fight-night', 'https://www.tapology.com/fightcenter/events/75229-ufc-fight-night', 'https://www.tapology.com/fightcenter/events/75458-ufc-fight-night', 'https://www.tapology.com/fightcenter/events/74572-ufc-fight-night', 'https://www.tapology.com/fightcenter/events/78322-fontibon-vs-localidades-ufcf', 'https://www.tapology.com/fightcenter/events/74857-ufc-fight-night', 'https://www.tapology.com/fightcenter/events/74079-ufc-fight-night', 'https://www.tapology.com/fightcenter/events/73679-ufc-fight-night', 'https://www.tapology.com/fightcenter/events/74141-ufc-fight-night', 'https://www.tapology.com/fightcenter/events/73379-ufc-fight-night', 'https://www.tapology.com/fightcenter/events/73411-ufc-fight-night', 'https://www.tapology.com/fightcenter/events/73413-ufc-257', 'https://www.tapology.com/fightcenter/events/74598-ufc-fight-night', 'https://www.tapology.com/fightcenter/events/73220-ufc-fight-night', 'https://www.tapology.com/fightcenter/events/72974-ufc-fight-night', 'https://www.tapology.com/fightcenter/events/71960-ufc-256', 'https://www.tapology.com/fightcenter/events/71961-ufc-fight-night', 'https://www.tapology.com/fightcenter/events/71907-ufc-fight-night-blaydes-vs-lewis', 'https://www.tapology.com/fightcenter/events/71715-ufc-255', 'https://www.tapology.com/fightcenter/events/70398-contender-series-2020-week-10', 'https://www.tapology.com/fightcenter/events/71846-ufc-fight-night', 'https://www.tapology.com/fightcenter/events/70397-contender-series-2020-week-9', 'https://www.tapology.com/fightcenter/events/71816-ufc-fight-night', 'https://www.tapology.com/fightcenter/events/70396-contender-series-2020-week-8', 'https://www.tapology.com/fightcenter/events/71817-ufc-fight-night', 'https://www.tapology.com/fightcenter/events/70869-ufc-255', 'https://www.tapology.com/fightcenter/events/71447-ufc-fight-night', 'https://www.tapology.com/fightcenter/events/71622-ufc-fight-night', 'https://www.tapology.com/fightcenter/events/71155-ufc-fight-night', 'https://www.tapology.com/fightcenter/events/70105-ufc-253', 'https://www.tapology.com/fightcenter/events/70810-ufc-fight-night', 'https://www.tapology.com/fightcenter/events/70395-contender-series-2020-week-7', 'https://www.tapology.com/fightcenter/events/70698-ufc-fight-night', 'https://www.tapology.com/fightcenter/events/70394-contender-series-2020-week-6', 'https://www.tapology.com/fightcenter/events/70907-ufc-fight-night', 'https://www.tapology.com/fightcenter/events/70393-contender-series-2020-week-5', 'https://www.tapology.com/fightcenter/events/70174-ufc-fight-night', 'https://www.tapology.com/fightcenter/events/70392-contender-series-2020-week-4', 'https://www.tapology.com/fightcenter/events/70108-ufc-fight-night', 'https://www.tapology.com/fightcenter/events/70391-contender-series-2020-week-3', 'https://www.tapology.com/fightcenter/events/67159-ufc-on-espn', 'https://www.tapology.com/fightcenter/events/70390-contender-series-2020-week-2', 'https://www.tapology.com/fightcenter/events/70216-ufc-fight-night', 'https://www.tapology.com/fightcenter/events/70389-contender-series-2020-week-1', 'https://www.tapology.com/fightcenter/events/69945-ufc-fight-night', 'https://www.tapology.com/fightcenter/events/69764-ufc-fight-night', 'https://www.tapology.com/fightcenter/events/69705-ufc-fight-night', 'https://www.tapology.com/fightcenter/events/70017-ufc-fight-night', 'https://www.tapology.com/fightcenter/events/67725-ufc-252', 'https://www.tapology.com/fightcenter/events/67596-ufc-on-espn', 'https://www.tapology.com/fightcenter/events/68344-contender-series-2020-week-1', 'https://www.tapology.com/fightcenter/events/67608-ufc-on-espn', 'https://www.tapology.com/fightcenter/events/67562-ufc-on-espn', 'https://www.tapology.com/fightcenter/events/67364-ufc-251', 'https://www.tapology.com/fightcenter/events/69127-ufc-fight-night', 'https://www.tapology.com/fightcenter/events/67412-ufc-on-espn-33', 'https://www.tapology.com/fightcenter/events/69126-ufc-fight-night', 'https://www.tapology.com/fightcenter/events/66312-ufc-250', 'https://www.tapology.com/fightcenter/events/67068-ufc-on-espn-32', 'https://www.tapology.com/fightcenter/events/66414-ufc-on-espn-31-smith-vs-teixeira', 'https://www.tapology.com/fightcenter/events/64603-ufc-249', 'https://www.tapology.com/fightcenter/events/65431-ufc-on-espn-30', 'https://www.tapology.com/fightcenter/events/65131-ufc-on-espn-29', 'https://www.tapology.com/fightcenter/events/64602-ufc-on-espn-27', 'https://www.tapology.com/fightcenter/events/64600-ufc-on-espn-26', 'https://www.tapology.com/fightcenter/events/64599-ufc-248', 'https://www.tapology.com/fightcenter/events/65142-ufc-on-espn-27', 'https://www.tapology.com/fightcenter/events/64478-ufc-on-espn', 'https://www.tapology.com/fightcenter/events/64635-ufc-on-espn', 'https://www.tapology.com/fightcenter/events/64388-ufc-on-espn', 'https://www.tapology.com/fightcenter/events/64361-ufc-on-espn-24', 'https://www.tapology.com/fightcenter/events/63997-ufc-fight-night', 'https://www.tapology.com/fightcenter/events/60327-ufc-on-espn-23', 'https://www.tapology.com/fightcenter/events/60326-ufc-245', 'https://www.tapology.com/fightcenter/events/60325-ufc-on-espn-6', 'https://www.tapology.com/fightcenter/events/60323-ufc-on-espn-21', 'https://www.tapology.com/fightcenter/events/64269-ufca-combat-1', 'https://www.tapology.com/fightcenter/events/61626-ufc-on-espn-21', 'https://www.tapology.com/fightcenter/events/60322-ufc-244', 'https://www.tapology.com/fightcenter/events/75183-super-amateur-fighting-tournament-7', 'https://www.tapology.com/fightcenter/events/60321-ufc-on-espn-20', 'https://www.tapology.com/fightcenter/events/60320-ufc-on-espn-2', 'https://www.tapology.com/fightcenter/events/60319-ufc-on-espn-19', 'https://www.tapology.com/fightcenter/events/60318-ufc-243', 'https://www.tapology.com/fightcenter/events/65916-tsn-fight-night-3', 'https://www.tapology.com/fightcenter/events/60317-ufc-on-espn-18', 'https://www.tapology.com/fightcenter/events/60316-ufc-on-espn-17', 'https://www.tapology.com/fightcenter/events/60315-ufc-on-espn-16', 'https://www.tapology.com/fightcenter/events/60004-ufc-242', 'https://www.tapology.com/fightcenter/events/60314-ufc-on-espn-15', 'https://www.tapology.com/fightcenter/events/61011-dw-s-contender-series-week-10', 'https://www.tapology.com/fightcenter/events/60000-dw-s-contender-series-2019-week-10', 'https://www.tapology.com/fightcenter/events/59522-ufc-241', 'https://www.tapology.com/fightcenter/events/59999-dw-s-contender-series-2019-week-9', 'https://www.tapology.com/fightcenter/events/60313-ufc-on-espn-14', 'https://www.tapology.com/fightcenter/events/59998-dw-s-contender-series-2019-week-8', 'https://www.tapology.com/fightcenter/events/60312-ufc-on-espn-5-covington-vs-lawler', 'https://www.tapology.com/fightcenter/events/59499-dw-s-contender-series-2019-week-7', 'https://www.tapology.com/fightcenter/events/59521-ufc-240', 'https://www.tapology.com/fightcenter/events/59498-dw-s-contender-series-2019-week-6', 'https://www.tapology.com/fightcenter/events/60311-ufc-on-espn-4', 'https://www.tapology.com/fightcenter/events/65915-tsn-fight-night-2', 'https://www.tapology.com/fightcenter/events/59497-dw-s-contender-series-2019-week-5', 'https://www.tapology.com/fightcenter/events/59896-ufc-on-espn-13', 'https://www.tapology.com/fightcenter/events/59496-dw-s-contender-series-2019-week-4', 'https://www.tapology.com/fightcenter/events/58831-ufc-239', 'https://www.tapology.com/fightcenter/events/57513-ufc-on-espn-4', 'https://www.tapology.com/fightcenter/events/59494-dw-s-contender-series-2019-week-2', 'https://www.tapology.com/fightcenter/events/57512-ufc-on-espn-11', 'https://www.tapology.com/fightcenter/events/59493-dw-s-contender-series-2019-week-1', 'https://www.tapology.com/fightcenter/events/58449-ufc-238', 'https://www.tapology.com/fightcenter/events/57510-ufc-on-espn-10', 'https://www.tapology.com/fightcenter/events/65910-tsn-fight-night-1-traiskirchen', 'https://www.tapology.com/fightcenter/events/57509-ufc-on-espn-9', 'https://www.tapology.com/fightcenter/events/57508-ufc-237', 'https://www.tapology.com/fightcenter/events/57507-ufc-on-espn-8', 'https://www.tapology.com/fightcenter/events/75244-super-amateur-fighting-tournament', 'https://www.tapology.com/fightcenter/events/57506-ufc-on-espn-3', 'https://www.tapology.com/fightcenter/events/59799-gala-de-boxe-de-l-independance', 'https://www.tapology.com/fightcenter/events/57505-ufc-on-espn-7', 'https://www.tapology.com/fightcenter/events/57504-ufc-236', 'https://www.tapology.com/fightcenter/events/56354-ufc-fight-night-150', 'https://www.tapology.com/fightcenter/events/56353-ufc-fight-night-149', 'https://www.tapology.com/fightcenter/events/56327-ufc-fight-night', 'https://www.tapology.com/fightcenter/events/56352-ufc-fight-night-147', 'https://www.tapology.com/fightcenter/events/56351-ufc-235', 'https://www.tapology.com/fightcenter/events/56350-ufc-fight-night-146', 'https://www.tapology.com/fightcenter/events/56349-ufc-fight-night-145', 'https://www.tapology.com/fightcenter/events/75332-primer-torneo-iska-novato', 'https://www.tapology.com/fightcenter/events/56334-ufc-234', 'https://www.tapology.com/fightcenter/events/56348-ufc-fight-night-144', 'https://www.tapology.com/fightcenter/events/56262-ufc-233', 'https://www.tapology.com/fightcenter/events/55048-ufc-fight-night', 'https://www.tapology.com/fightcenter/events/49923-ufc-232', 'https://www.tapology.com/fightcenter/events/54138-ufc-fight-night-143', 'https://www.tapology.com/fightcenter/events/54119-ufc-231', 'https://www.tapology.com/fightcenter/events/54137-ufc-fight-night-142', 'https://www.tapology.com/fightcenter/events/54136-the-ultimate-fighter-28-finale', 'https://www.tapology.com/fightcenter/events/54135-ufc-fight-night-141', 'https://www.tapology.com/fightcenter/events/54134-ufc-fight-night-140', 'https://www.tapology.com/fightcenter/events/53520-ufc-fight-night', 'https://www.tapology.com/fightcenter/events/53519-ufc-230', 'https://www.tapology.com/fightcenter/events/75784-super-amateur-fighting-tournament-2', 'https://www.tapology.com/fightcenter/events/53697-ufc-fight-night', 'https://www.tapology.com/fightcenter/events/49922-ufc-229', 'https://www.tapology.com/fightcenter/events/53984-ufc-fight-night-137', 'https://www.tapology.com/fightcenter/events/53264-ufc-fight-night', 'https://www.tapology.com/fightcenter/events/53597-ufc-228', 'https://www.tapology.com/fightcenter/events/62312-king-of-the-fight-mma-exhibition-2018', 'https://www.tapology.com/fightcenter/events/52393-ufc-fight-night', 'https://www.tapology.com/fightcenter/events/57997-the-ultimate-fighter-season-28-heavy-hitters', 'https://www.tapology.com/fightcenter/events/52344-ufc-227', 'https://www.tapology.com/fightcenter/events/52629-ufc-on-fox-30', 'https://www.tapology.com/fightcenter/events/57996-the-ultimate-fighter-season-28-heavy-hitters', 'https://www.tapology.com/fightcenter/events/52081-ufc-fight-night', 'https://www.tapology.com/fightcenter/events/57995-the-ultimate-fighter-season-28-heavy-hitters', 'https://www.tapology.com/fightcenter/events/52391-ufc-fight-night-133', 'https://www.tapology.com/fightcenter/events/49921-ufc-226', 'https://www.tapology.com/fightcenter/events/49920-the-ultimate-fighter-27-finale', 'https://www.tapology.com/fightcenter/events/51323-ufc-fight-night', 'https://www.tapology.com/fightcenter/events/50751-ufc-225', 'https://www.tapology.com/fightcenter/events/50754-ufc-fight-night', 'https://www.tapology.com/fightcenter/events/51805-ufc-fight-night', 'https://www.tapology.com/fightcenter/events/50992-ufc-fight-night', 'https://www.tapology.com/fightcenter/events/50243-ufc-224', 'https://www.tapology.com/fightcenter/events/50670-ufc-fight-night', 'https://www.tapology.com/fightcenter/events/50283-ufc-fight-night', 'https://www.tapology.com/fightcenter/events/50149-ufc-223', 'https://www.tapology.com/fightcenter/events/49029-ufc-fight-night-129', 'https://www.tapology.com/fightcenter/events/48689-ufc-222', 'https://www.tapology.com/fightcenter/events/57994-the-ultimate-fighter-season-27-undefeated', 'https://www.tapology.com/fightcenter/events/49028-ufc-fight-night-128', 'https://www.tapology.com/fightcenter/events/57993-the-ultimate-fighter-season-27-undefeated', 'https://www.tapology.com/fightcenter/events/49027-ufc-fight-night-127', 'https://www.tapology.com/fightcenter/events/57992-the-ultimate-fighter-season-27-undefeated', 'https://www.tapology.com/fightcenter/events/57991-the-ultimate-fighter-season-27-undefeated', 'https://www.tapology.com/fightcenter/events/48688-ufc-221', 'https://www.tapology.com/fightcenter/events/57989-the-ultimate-fighter-season-27-undefeated', 'https://www.tapology.com/fightcenter/events/57988-the-ultimate-fighter-season-27-undefeated', 'https://www.tapology.com/fightcenter/events/48880-ufc-fight-night-125', 'https://www.tapology.com/fightcenter/events/49007-ufc-fight-night-125', 'https://www.tapology.com/fightcenter/events/48687-ufc-220', 'https://www.tapology.com/fightcenter/events/48676-ufc', 'https://www.tapology.com/fightcenter/events/47258-ufc-219', 'https://www.tapology.com/fightcenter/events/47257-ufc-fight-night', 'https://www.tapology.com/fightcenter/events/47256-ufc-fight-night', 'https://www.tapology.com/fightcenter/events/47255-ufc-218', 'https://www.tapology.com/fightcenter/events/47254-the-ultimate-fighter-26-finale', 'https://www.tapology.com/fightcenter/events/47252-ufc-fight-night', 'https://www.tapology.com/fightcenter/events/46847-ufc-fight-night', 'https://www.tapology.com/fightcenter/events/47253-ufc-fight-night', 'https://www.tapology.com/fightcenter/events/46980-ufc', 'https://www.tapology.com/fightcenter/events/47279-ufc-fight-night-119', 'https://www.tapology.com/fightcenter/events/44729-ufc-fight-night', 'https://www.tapology.com/fightcenter/events/46805-ufc-216', 'https://www.tapology.com/fightcenter/events/45800-ufc-fight-night', 'https://www.tapology.com/fightcenter/events/46943-ufc-fight-night-116', 'https://www.tapology.com/fightcenter/events/44084-ufc-216', 'https://www.tapology.com/fightcenter/events/44728-ufc-fight-night', 'https://www.tapology.com/fightcenter/events/49650-the-ultimate-fighter-season-26-a-new-world-champion', 'https://www.tapology.com/fightcenter/events/49649-the-ultimate-fighter-season-26-a-new-world-champion', 'https://www.tapology.com/fightcenter/events/49648-the-ultimate-fighter-season-26-a-new-world-champion', 'https://www.tapology.com/fightcenter/events/45713-ufc-fight-night', 'https://www.tapology.com/fightcenter/events/49647-the-ultimate-fighter-season-26-a-new-world-champion', 'https://www.tapology.com/fightcenter/events/49646-the-ultimate-fighter-season-26-a-new-world-champion', 'https://www.tapology.com/fightcenter/events/44395-ufc-214', 'https://www.tapology.com/fightcenter/events/49645-the-ultimate-fighter-season-26-a-new-world-champion', 'https://www.tapology.com/fightcenter/events/49644-the-ultimate-fighter-season-26-a-new-world-champion', 'https://www.tapology.com/fightcenter/events/44942-ufc-fight-night', 'https://www.tapology.com/fightcenter/events/49643-the-ultimate-fighter-season-26-a-new-world-champion', 'https://www.tapology.com/fightcenter/events/44634-ufc-fight-night', 'https://www.tapology.com/fightcenter/events/44083-ufc-213', 'https://www.tapology.com/fightcenter/events/44082-the-ultimate-fighter-25-finale', 'https://www.tapology.com/fightcenter/events/44840-ufc-fight-night-112', 'https://www.tapology.com/fightcenter/events/44376-ufc-fight-night', 'https://www.tapology.com/fightcenter/events/44562-ufc-fight-night-110', 'https://www.tapology.com/fightcenter/events/44080-ufc-212', 'https://www.tapology.com/fightcenter/events/44414-ufc-fight-night', 'https://www.tapology.com/fightcenter/events/43945-ufc-211', 'https://www.tapology.com/fightcenter/events/44240-ufc-fight-night-108', 'https://www.tapology.com/fightcenter/events/43966-ufc-fight-night', 'https://www.tapology.com/fightcenter/events/43812-ufc-210', 'https://www.tapology.com/fightcenter/events/42681-ufc', 'https://www.tapology.com/fightcenter/events/42700-ufc-fight-night', 'https://www.tapology.com/fightcenter/events/42699-ufc-210', 'https://www.tapology.com/fightcenter/events/42708-ufc-fight-night', 'https://www.tapology.com/fightcenter/events/49525-the-ultimate-fighter-season-25-redemption', 'https://www.tapology.com/fightcenter/events/49523-the-ultimate-fighter-season-25-redemption', 'https://www.tapology.com/fightcenter/events/49524-the-ultimate-fighter-season-25-redemption', 'https://www.tapology.com/fightcenter/events/42677-ufc-fight-night', 'https://www.tapology.com/fightcenter/events/49522-the-ultimate-fighter-season-25-redemption', 'https://www.tapology.com/fightcenter/events/42698-ufc-209', 'https://www.tapology.com/fightcenter/events/49521-the-ultimate-fighter-season-25-redemption', 'https://www.tapology.com/fightcenter/events/49520-the-ultimate-fighter-season-25-redemption', 'https://www.tapology.com/fightcenter/events/42635-ufc', 'https://www.tapology.com/fightcenter/events/49519-the-ultimate-fighter-season-25-redemption', 'https://www.tapology.com/fightcenter/events/49518-the-ultimate-fighter-season-25-redemption', 'https://www.tapology.com/fightcenter/events/42697-ufc-on-fox-23', 'https://www.tapology.com/fightcenter/events/42696-ufc-208', 'https://www.tapology.com/fightcenter/events/42582-ufc-fight-night', 'https://www.tapology.com/fightcenter/events/41373-ufc-207', 'https://www.tapology.com/fightcenter/events/41372-ufc-fight-night', 'https://www.tapology.com/fightcenter/events/41371-ufc-206', 'https://www.tapology.com/fightcenter/events/41370-ufc-fight-night', 'https://www.tapology.com/fightcenter/events/41342-the-ultimate-fighter-24-finale', 'https://www.tapology.com/fightcenter/events/41369-ufc-fight-night', 'https://www.tapology.com/fightcenter/events/41368-ufc-fight-night', 'https://www.tapology.com/fightcenter/events/41367-ufc-fight-night', 'https://www.tapology.com/fightcenter/events/39362-ufc', 'https://www.tapology.com/fightcenter/events/41075-ufc-fight-night', 'https://www.tapology.com/fightcenter/events/40499-ufc-fight-night', 'https://www.tapology.com/fightcenter/events/40792-ufc-204', 'https://www.tapology.com/fightcenter/events/40949-ufc-fight-night', 'https://www.tapology.com/fightcenter/events/40418-ufc-fight-night', 'https://www.tapology.com/fightcenter/events/40816-ufc-fight-night-94', 'https://www.tapology.com/fightcenter/events/40102-ufc-203-miocic-vs-overeem', 'https://www.tapology.com/fightcenter/events/39753-ufc-fight-night', 'https://www.tapology.com/fightcenter/events/40403-ufc-on-fox-21', 'https://www.tapology.com/fightcenter/events/39739-ufc-202', 'https://www.tapology.com/fightcenter/events/49515-the-ultimate-fighter-season-24-tournament-of-champions', 'https://www.tapology.com/fightcenter/events/40152-ufc-fight-night-92', 'https://www.tapology.com/fightcenter/events/49514-the-ultimate-fighter-season-24-tournament-of-champions', 'https://www.tapology.com/fightcenter/events/39712-ufc-201', 'https://www.tapology.com/fightcenter/events/49513-the-ultimate-fighter-season-24-tournament-of-champions', 'https://www.tapology.com/fightcenter/events/49512-the-ultimate-fighter-season-24-tournament-of-champions', 'https://www.tapology.com/fightcenter/events/39076-ufc-on-fox-20', 'https://www.tapology.com/fightcenter/events/49511-the-ultimate-fighter-season-24-tournament-of-champions', 'https://www.tapology.com/fightcenter/events/49510-the-ultimate-fighter-season-24-tournament-of-champions', 'https://www.tapology.com/fightcenter/events/49509-the-ultimate-fighter-season-24', 'https://www.tapology.com/fightcenter/events/39393-ufc-fight-night-91', 'https://www.tapology.com/fightcenter/events/49508-the-ultimate-fighter-season-24-tournament-of-champions', 'https://www.tapology.com/fightcenter/events/35220-ufc-200', 'https://www.tapology.com/fightcenter/events/37873-the-ultimate-fighter-22-finale', 'https://www.tapology.com/fightcenter/events/38670-ufc-fight-night', 'https://www.tapology.com/fightcenter/events/38667-ufc-fight-night', 'https://www.tapology.com/fightcenter/events/38668-ufc-199-rockhold-vs-weidman-2', 'https://www.tapology.com/fightcenter/events/38669-ufc-fight-night-88', 'https://www.tapology.com/fightcenter/events/37906-ufc-fight-night-87-jacare-vs-belfort', 'https://www.tapology.com/fightcenter/events/37671-ufc-fight-night', 'https://www.tapology.com/fightcenter/events/36847-ufc-198', 'https://www.tapology.com/fightcenter/events/38076-ufc-on-fox-19', 'https://www.tapology.com/fightcenter/events/37670-ufc-fight-night-85', 'https://www.tapology.com/fightcenter/events/36756-ufc-fight-night', 'https://www.tapology.com/fightcenter/events/36627-ufc-197', 'https://www.tapology.com/fightcenter/events/41121-the-ultimate-fighter-season-23-team-joanna-vs-team-claudia', 'https://www.tapology.com/fightcenter/events/41120-the-ultimate-fighter-season-23-team-joanna-vs-team-claudia', 'https://www.tapology.com/fightcenter/events/35496-ufc-fight-night', 'https://www.tapology.com/fightcenter/events/41119-the-ultimate-fighter-season-23-team-joanna-vs-team-claudia', 'https://www.tapology.com/fightcenter/events/35520-ufc-fight-night-82', 'https://www.tapology.com/fightcenter/events/41118-the-ultimate-fighter-season-23-team-joanna-vs-team-claudia', 'https://www.tapology.com/fightcenter/events/41117-the-ultimate-fighter-season-23-team-joanna-vs-team-claudia', 'https://www.tapology.com/fightcenter/events/41116-the-ultimate-fighter-season-23-team-joanna-vs-team-claudia', 'https://www.tapology.com/fightcenter/events/41115-the-ultimate-fighter-season-23-team-joanna-vs-team-claudia', 'https://www.tapology.com/fightcenter/events/36542-ufc-196', 'https://www.tapology.com/fightcenter/events/41114-the-ultimate-fighter-season-23-team-joanna-vs-team-claudia', 'https://www.tapology.com/fightcenter/events/41113-the-ultimate-fighter-season-23-team-joanna-vs-team-claudia', 'https://www.tapology.com/fightcenter/events/35501-ufc-on-fox-18', 'https://www.tapology.com/fightcenter/events/41112-the-ultimate-fighter-season-23-team-joanna-vs-team-claudia', 'https://www.tapology.com/fightcenter/events/35374-ufc-fight-night-pettis-vs-alvarez', 'https://www.tapology.com/fightcenter/events/34862-ufc-195-rousey-vs-holm', 'https://www.tapology.com/fightcenter/events/34696-ufc-on-fox-17', 'https://www.tapology.com/fightcenter/events/34444-ufc-195-aldo-vs-mcgregor', 'https://www.tapology.com/fightcenter/events/34765-the-ultimate-fighter-22-finale', 'https://www.tapology.com/fightcenter/events/35219-ufc-fight-night-80', 'https://www.tapology.com/fightcenter/events/32865-ufc-fight-night-83', 'https://www.tapology.com/fightcenter/events/34434-ufc-fight-night', 'https://www.tapology.com/fightcenter/events/30831-ufc-193', 'https://www.tapology.com/fightcenter/events/34071-ufc-fight-night', 'https://www.tapology.com/fightcenter/events/33860-ufc', 'https://www.tapology.com/fightcenter/events/31112-ufc-192', 'https://www.tapology.com/fightcenter/events/32823-ufc-fight-night-78-nelson-vs-barnett', 'https://www.tapology.com/fightcenter/events/33167-ufc-191', 'https://www.tapology.com/fightcenter/events/40930-the-ultimate-fighter-season-22', 'https://www.tapology.com/fightcenter/events/33357-ufc-fight-night-74-holloway-vs-oliveira', 'https://www.tapology.com/fightcenter/events/40929-the-ultimate-fighter-season-22', 'https://www.tapology.com/fightcenter/events/40928-the-ultimate-fighter-season-22', 'https://www.tapology.com/fightcenter/events/40927-the-ultimate-fighter-season-22', 'https://www.tapology.com/fightcenter/events/40926-the-ultimate-fighter-season-22', 'https://www.tapology.com/fightcenter/events/31106-ufc-fight-night', 'https://www.tapology.com/fightcenter/events/40925-the-ultimate-fighter-season-22', 'https://www.tapology.com/fightcenter/events/40924-the-ultimate-fighter-season-22', 'https://www.tapology.com/fightcenter/events/40923-the-ultimate-fighter-season-22', 'https://www.tapology.com/fightcenter/events/31250-ufc-190-rousey-vs-correia', 'https://www.tapology.com/fightcenter/events/40922-the-ultimate-fighter-season-22', 'https://www.tapology.com/fightcenter/events/40921-the-ultimate-fighter-season-22', 'https://www.tapology.com/fightcenter/events/29323-ufc-on-fox-16', 'https://www.tapology.com/fightcenter/events/40920-the-ultimate-fighter-season-22', 'https://www.tapology.com/fightcenter/events/29538-ufc-fight-night', 'https://www.tapology.com/fightcenter/events/40916-the-ultimate-fighter-season-22', 'https://www.tapology.com/fightcenter/events/34926-road-to-ufc-japan', 'https://www.tapology.com/fightcenter/events/34927-road-to-ufc-japan', 'https://www.tapology.com/fightcenter/events/31105-ufc-fight-night', 'https://www.tapology.com/fightcenter/events/31723-ufc-fight-night-71', 'https://www.tapology.com/fightcenter/events/26946-ufc-189', 'https://www.tapology.com/fightcenter/events/30909-ufc-fight-night-70', 'https://www.tapology.com/fightcenter/events/29537-ufc-fight-night', 'https://www.tapology.com/fightcenter/events/29313-ufc-188-velasquez-vs-werdum', 'https://www.tapology.com/fightcenter/events/30065-ufc-fight-night-68-cormier-vs-bader', 'https://www.tapology.com/fightcenter/events/30066-ufc-fight-night-67', 'https://www.tapology.com/fightcenter/events/29455-ufc-187-aldo-vs-mcgregor', 'https://www.tapology.com/fightcenter/events/34298-road-to-ufc-japan', 'https://www.tapology.com/fightcenter/events/34331-road-to-ufc-japan', 'https://www.tapology.com/fightcenter/events/34333-road-to-ufc-japan', 'https://www.tapology.com/fightcenter/events/34334-road-to-ufc-japan', 'https://www.tapology.com/fightcenter/events/29712-ufc-fight-night', 'https://www.tapology.com/fightcenter/events/30291-ufc-fight-night-65-hunt-vs-miocic', 'https://www.tapology.com/fightcenter/events/28241-ufc-186', 'https://www.tapology.com/fightcenter/events/40911-the-ultimate-fighter-latin-america-season-2', 'https://www.tapology.com/fightcenter/events/40910-the-ultimate-fighter-latin-america-season-2', 'https://www.tapology.com/fightcenter/events/28240-ufc-fight-night-66', 'https://www.tapology.com/fightcenter/events/40909-the-ultimate-fighter-latin-america-season-2', 'https://www.tapology.com/fightcenter/events/28239-ufc-fight-night-65', 'https://www.tapology.com/fightcenter/events/40908-the-ultimate-fighter-latin-america-season-2', 'https://www.tapology.com/fightcenter/events/40907-the-ultimate-fighter-latin-america-season-2', 'https://www.tapology.com/fightcenter/events/28238-ufc-fight-night-64', 'https://www.tapology.com/fightcenter/events/40906-the-ultimate-fighter-latin-america-season-2', 'https://www.tapology.com/fightcenter/events/40905-the-ultimate-fighter-latin-america-season-2', 'https://www.tapology.com/fightcenter/events/40904-the-ultimate-fighter-latin-america-season-2', 'https://www.tapology.com/fightcenter/events/40903-the-ultimate-fighter-latin-america-season-2', 'https://www.tapology.com/fightcenter/events/28237-ufc-fight-night-62', 'https://www.tapology.com/fightcenter/events/28236-ufc-185', 'https://www.tapology.com/fightcenter/events/28235-ufc-fight-night-61', 'https://www.tapology.com/fightcenter/events/41133-the-ultimate-fighter-brazil-season-4', 'https://www.tapology.com/fightcenter/events/41132-the-ultimate-fighter-brazil-season-4', 'https://www.tapology.com/fightcenter/events/27642-ufc-184-weidman-vs-belfort', 'https://www.tapology.com/fightcenter/events/41131-the-ultimate-fighter-brazil-season-4', 'https://www.tapology.com/fightcenter/events/41130-the-ultimate-fighter-brazil-season-4', 'https://www.tapology.com/fightcenter/events/28054-ufc-fight-night-61', 'https://www.tapology.com/fightcenter/events/41129-the-ultimate-fighter-brazil-season-4', 'https://www.tapology.com/fightcenter/events/41128-the-ultimate-fighter-brazil-season-4', 'https://www.tapology.com/fightcenter/events/28035-ufc-fight-night-60', 'https://www.tapology.com/fightcenter/events/41127-the-ultimate-fighter-brazil-season-4', 'https://www.tapology.com/fightcenter/events/41126-the-ultimate-fighter-brazil-season-4', 'https://www.tapology.com/fightcenter/events/41125-the-ultimate-fighter-brazil-season-4', 'https://www.tapology.com/fightcenter/events/25716-ufc-183-silva-vs-diaz', 'https://www.tapology.com/fightcenter/events/27583-ufc-on-fox-14-gustafsson-vs-evans', 'https://www.tapology.com/fightcenter/events/27634-ufc-fight-night', 'https://www.tapology.com/fightcenter/events/23598-ufc-182-pettis-vs-melendez', 'https://www.tapology.com/fightcenter/events/25634-ufc-fight-night', 'https://www.tapology.com/fightcenter/events/24669-ufc-on-fox-13', 'https://www.tapology.com/fightcenter/events/26091-the-ultimate-fighter-20-finale', 'https://www.tapology.com/fightcenter/events/22392-ufc-181', 'https://www.tapology.com/fightcenter/events/23135-ufc-fight-night', 'https://www.tapology.com/fightcenter/events/24140-ufc-180-velasquez-vs-werdum', 'https://www.tapology.com/fightcenter/events/25633-ufc-fight-night', 'https://www.tapology.com/fightcenter/events/26376-ufc-fight-night-55', 'https://www.tapology.com/fightcenter/events/24353-ufc-179', 'https://www.tapology.com/fightcenter/events/22391-ufc-fight-night', 'https://www.tapology.com/fightcenter/events/23133-ufc-fight-night', 'https://www.tapology.com/fightcenter/events/22390-ufc-178', 'https://www.tapology.com/fightcenter/events/23029-ufc', 'https://www.tapology.com/fightcenter/events/24352-ufc-fight-night', 'https://www.tapology.com/fightcenter/events/24825-ufc-fight-night-50', 'https://www.tapology.com/fightcenter/events/24694-ufc-177-jones-vs-gustafsson-2', 'https://www.tapology.com/fightcenter/events/23966-ufc-fight-night', 'https://www.tapology.com/fightcenter/events/23028-ufc-fight-night', 'https://www.tapology.com/fightcenter/events/24351-ufc-fight-night-47', 'https://www.tapology.com/fightcenter/events/35582-the-ultimate-fighter-season-20-a-champion-will-be-crowned', 'https://www.tapology.com/fightcenter/events/35581-the-ultimate-fighter-season-20-a-champion-will-be-crowned', 'https://www.tapology.com/fightcenter/events/35580-the-ultimate-fighter-season-20-a-champion-will-be-crowned', 'https://www.tapology.com/fightcenter/events/24065-ufc-176-aldo-vs-mendes-2', 'https://www.tapology.com/fightcenter/events/35579-the-ultimate-fighter-season-20-a-champion-will-be-crowned', 'https://www.tapology.com/fightcenter/events/23617-ufc-on-fox-12', 'https://www.tapology.com/fightcenter/events/35578-the-ultimate-fighter-season-20-a-champion-will-be-crowned', 'https://www.tapology.com/fightcenter/events/35577-the-ultimate-fighter-season-20-a-champion-will-be-crowned', 'https://www.tapology.com/fightcenter/events/23131-ufc-fight-night', 'https://www.tapology.com/fightcenter/events/35576-the-ultimate-fighter-season-20-a-champion-will-be-crowned', 'https://www.tapology.com/fightcenter/events/23965-ufc-fight-night', 'https://www.tapology.com/fightcenter/events/35575-the-ultimate-fighter-season-20-a-champion-will-be-crowned', 'https://www.tapology.com/fightcenter/events/35574-the-ultimate-fighter-season-20-a-champion-will-be-crowned', 'https://www.tapology.com/fightcenter/events/35573-the-ultimate-fighter-season-20-a-champion-will-be-crowned', 'https://www.tapology.com/fightcenter/events/23323-the-ultimate-fighter-19-finale', 'https://www.tapology.com/fightcenter/events/23324-ufc-175', 'https://www.tapology.com/fightcenter/events/23349-ufc-fight-night', 'https://www.tapology.com/fightcenter/events/23781-ufc-fight-night-45-te-huna-vs-marquardt', 'https://www.tapology.com/fightcenter/events/22389-ufc-174', 'https://www.tapology.com/fightcenter/events/23441-ufc-fight-night-henderson-vs-khabilov', 'https://www.tapology.com/fightcenter/events/22697-ufc-fight-night', 'https://www.tapology.com/fightcenter/events/23130-ufc-fight-night', 'https://www.tapology.com/fightcenter/events/22469-ufc-173-weidman-vs-belfort', 'https://www.tapology.com/fightcenter/events/22778-ufc-fight-night', 'https://www.tapology.com/fightcenter/events/21832-ufc-172-jones-vs-teixeira', 'https://www.tapology.com/fightcenter/events/22127-ufc-on-fox-11', 'https://www.tapology.com/fightcenter/events/22061-tuf-nations-finale-canada-vs-australia', 'https://www.tapology.com/fightcenter/events/22403-ufc-fight-night-39-nogueira-vs-nelson', 'https://www.tapology.com/fightcenter/events/22108-ufc-fight-night', 'https://www.tapology.com/fightcenter/events/21513-ufc-171', 'https://www.tapology.com/fightcenter/events/21272-ufc-fight-night-gustafsson-vs-nogueira', 'https://www.tapology.com/fightcenter/events/22007-the-ultimate-fighter-china-1-finale', 'https://www.tapology.com/fightcenter/events/21249-ufc-170', 'https://www.tapology.com/fightcenter/events/20593-ufc-fight-night', 'https://www.tapology.com/fightcenter/events/20975-ufc-169-jones-vs-teixeira', 'https://www.tapology.com/fightcenter/events/21248-ufc-on-fox-10', 'https://www.tapology.com/fightcenter/events/21505-ufc-fight-night-35', 'https://www.tapology.com/fightcenter/events/20473-ufc-singapore', 'https://www.tapology.com/fightcenter/events/19667-ufc-168-rousey-vs-tate-2', 'https://www.tapology.com/fightcenter/events/16683-ufc-on-fox-9', 'https://www.tapology.com/fightcenter/events/20537-ufc-fight-night-hunt-vs-bigfoot', 'https://www.tapology.com/fightcenter/events/20173-the-ultimate-fighter-18-finale', 'https://www.tapology.com/fightcenter/events/35571-the-ultimate-fighter-season-19-team-edgar-vs-team-penn', 'https://www.tapology.com/fightcenter/events/35570-the-ultimate-fighter-season-19-team-edgar-vs-team-penn', 'https://www.tapology.com/fightcenter/events/19524-ufc-167-st-pierre-vs-hendricks', 'https://www.tapology.com/fightcenter/events/35569-the-ultimate-fighter-season-19-team-edgar-vs-team-penn', 'https://www.tapology.com/fightcenter/events/35568-the-ultimate-fighter-season-19-team-edgar-vs-team-penn', 'https://www.tapology.com/fightcenter/events/20217-ufc', 'https://www.tapology.com/fightcenter/events/35567-the-ultimate-fighter-season-19-team-edgar-vs-team-penn', 'https://www.tapology.com/fightcenter/events/19692-ufc-fight-for-the-troops', 'https://www.tapology.com/fightcenter/events/35566-the-ultimate-fighter-season-19-team-edgar-vs-team-penn', 'https://www.tapology.com/fightcenter/events/35562-the-ultimate-fighter-season-19-team-edgar-vs-team-penn', 'https://www.tapology.com/fightcenter/events/35561-the-ultimate-fighter-season-19-team-edgar-vs-team-penn', 'https://www.tapology.com/fightcenter/events/19801-ufc-on-fox-sports-1-bisping-vs-munoz', 'https://www.tapology.com/fightcenter/events/35560-the-ultimate-fighter-season-19-team-edgar-vs-team-penn', 'https://www.tapology.com/fightcenter/events/19525-ufc-166-velasquez-vs-dos-santos-3', 'https://www.tapology.com/fightcenter/events/35536-the-ultimate-fighter-season-19-team-edgar-vs-team-penn', 'https://www.tapology.com/fightcenter/events/19846-ufc-on-fox-sports-1', 'https://www.tapology.com/fightcenter/events/19128-ufc-165', 'https://www.tapology.com/fightcenter/events/18971-ufc-on-fox-sports-1-2', 'https://www.tapology.com/fightcenter/events/18192-ufc-164', 'https://www.tapology.com/fightcenter/events/19033-ufc-on-fox-sports-1-2', 'https://www.tapology.com/fightcenter/events/18384-ufc-on-fox-sports-1', 'https://www.tapology.com/fightcenter/events/17693-ufc-aldo-vs-pettis', 'https://www.tapology.com/fightcenter/events/16682-ufc-on-fox-8', 'https://www.tapology.com/fightcenter/events/17854-ufc-162-silva-vs-weidman', 'https://www.tapology.com/fightcenter/events/33763-the-ultimate-fighter-season-18', 'https://www.tapology.com/fightcenter/events/33761-the-ultimate-fighter-season-18', 'https://www.tapology.com/fightcenter/events/33762-the-ultimate-fighter-season-18', 'https://www.tapology.com/fightcenter/events/33770-the-ultimate-fighter-season-18', 'https://www.tapology.com/fightcenter/events/33765-the-ultimate-fighter-season-18', 'https://www.tapology.com/fightcenter/events/17939-ufc-161', 'https://www.tapology.com/fightcenter/events/33764-the-ultimate-fighter-season-18', 'https://www.tapology.com/fightcenter/events/17915-ufc-on-fx-9-nogueira-vs-werdum', 'https://www.tapology.com/fightcenter/events/33769-the-ultimate-fighter-season-18', 'https://www.tapology.com/fightcenter/events/33759-the-ultimate-fighter-season-18', 'https://www.tapology.com/fightcenter/events/17601-ufc', 'https://www.tapology.com/fightcenter/events/17761-ufc-on-fx-8-belfort-vs-rockhold', 'https://www.tapology.com/fightcenter/events/16681-ufc-jones-vs-sonnen', 'https://www.tapology.com/fightcenter/events/16680-ufc-on-fox-7', 'https://www.tapology.com/fightcenter/events/17421-the-ultimate-fighter-17-finale', 'https://www.tapology.com/fightcenter/events/17537-ufc-on-fuel-tv-9-gustafsson-vs-mousasi', 'https://www.tapology.com/fightcenter/events/17129-ufc-158', 'https://www.tapology.com/fightcenter/events/16905-ufc-on-fuel-tv-8', 'https://www.tapology.com/fightcenter/events/16791-ufc-157', 'https://www.tapology.com/fightcenter/events/16679-ufc-on-fuel-tv-7', 'https://www.tapology.com/fightcenter/events/16542-ufc-157', 'https://www.tapology.com/fightcenter/events/16667-ufc-on-fox-6', 'https://www.tapology.com/fightcenter/events/16549-ufc-156', 'https://www.tapology.com/fightcenter/events/15171-ufc-155-dos-santos-vs-velasquez-2', 'https://www.tapology.com/fightcenter/events/15480-the-ultimate-fighter-16-finale', 'https://www.tapology.com/fightcenter/events/15726-ufc-on-fx-6', 'https://www.tapology.com/fightcenter/events/35403-the-ultimate-fighter-season-17-team-jones-vs-team-sonnen', 'https://www.tapology.com/fightcenter/events/14399-ufc-on-fox-5', 'https://www.tapology.com/fightcenter/events/35402-the-ultimate-fighter-season-17-team-jones-vs-team-sonnen', 'https://www.tapology.com/fightcenter/events/35401-the-ultimate-fighter-season-17-team-jones-vs-team-sonnen', 'https://www.tapology.com/fightcenter/events/35400-the-ultimate-fighter-season-17-team-jones-vs-team-sonnen', 'https://www.tapology.com/fightcenter/events/35399-the-ultimate-fighter-season-17-team-jones-vs-team-sonnen', 'https://www.tapology.com/fightcenter/events/13141-ufc-154', 'https://www.tapology.com/fightcenter/events/35398-the-ultimate-fighter-season-17-team-jones-vs-team-sonnen', 'https://www.tapology.com/fightcenter/events/35397-the-ultimate-fighter-season-17-team-jones-vs-team-sonnen', 'https://www.tapology.com/fightcenter/events/35396-the-ultimate-fighter-season-17-team-jones-vs-team-sonnen', 'https://www.tapology.com/fightcenter/events/14619-ufc-on-fuel-tv-6', 'https://www.tapology.com/fightcenter/events/35395-the-ultimate-fighter-season-17-team-jones-vs-team-sonnen', 'https://www.tapology.com/fightcenter/events/35394-the-ultimate-fighter-season-17-team-jones-vs-team-sonnen', 'https://www.tapology.com/fightcenter/events/35389-the-ultimate-fighter-season-17-team-jones-vs-team-sonnen', 'https://www.tapology.com/fightcenter/events/14431-ufc-153', 'https://www.tapology.com/fightcenter/events/14104-ufc-on-fx-5', 'https://www.tapology.com/fightcenter/events/14292-ufc-153', 'https://www.tapology.com/fightcenter/events/13140-ufc-152', 'https://www.tapology.com/fightcenter/events/35075-the-ultimate-fighter-season-16-team-carwin-vs-team-nelson', 'https://www.tapology.com/fightcenter/events/35074-the-ultimate-fighter-season-16-team-carwin-vs-team-nelson', 'https://www.tapology.com/fightcenter/events/35073-the-ultimate-fighter-season-16-team-carwin-vs-team-nelson', 'https://www.tapology.com/fightcenter/events/13825-ufc-151-jones-vs-henderson', 'https://www.tapology.com/fightcenter/events/35072-the-ultimate-fighter-season-16-team-carwin-vs-team-nelson', 'https://www.tapology.com/fightcenter/events/35071-the-ultimate-fighter-season-16-team-carwin-vs-team-nelson', 'https://www.tapology.com/fightcenter/events/91317-the-ultimate-fighter-the-smashes', 'https://www.tapology.com/fightcenter/events/91316-the-ultimate-fighter-the-smashes', 'https://www.tapology.com/fightcenter/events/35070-the-ultimate-fighter-season-16-team-carwin-vs-team-nelson', 'https://www.tapology.com/fightcenter/events/91315-the-ultimate-fighter-the-smashes', 'https://www.tapology.com/fightcenter/events/91314-the-ultimate-fighter-the-smashes', 'https://www.tapology.com/fightcenter/events/35069-the-ultimate-fighter-season-16-team-carwin-vs-team-nelson', 'https://www.tapology.com/fightcenter/events/35068-the-ultimate-fighter-season-16-team-carwin-vs-team-nelson', 'https://www.tapology.com/fightcenter/events/13684-ufc-150', 'https://www.tapology.com/fightcenter/events/91313-the-ultimate-fighter-the-smashes', 'https://www.tapology.com/fightcenter/events/35066-the-ultimate-fighter-season-16-team-carwin-vs-team-nelson', 'https://www.tapology.com/fightcenter/events/35065-the-ultimate-fighter-season-16-team-carwin-vs-team-nelson', 'https://www.tapology.com/fightcenter/events/12572-ufc-on-fox-4', 'https://www.tapology.com/fightcenter/events/91310-the-ultimate-fighter-the-smashes', 'https://www.tapology.com/fightcenter/events/91309-the-ultimate-fighter-the-smashes', 'https://www.tapology.com/fightcenter/events/91308-the-ultimate-fighter-the-smashes', 'https://www.tapology.com/fightcenter/events/91305-the-ultimate-fighter-the-smashes', 'https://www.tapology.com/fightcenter/events/12776-ufc-149', 'https://www.tapology.com/fightcenter/events/91304-the-ultimate-fighter-the-smashes', 'https://www.tapology.com/fightcenter/events/13665-ufc-on-fuel-tv-4-munoz-vs-weidman', 'https://www.tapology.com/fightcenter/events/12574-ufc-148', 'https://www.tapology.com/fightcenter/events/12573-ufc-147', 'https://www.tapology.com/fightcenter/events/13105-ufc-on-fx-4', 'https://www.tapology.com/fightcenter/events/12575-ufc-on-fx-3', 'https://www.tapology.com/fightcenter/events/13061-the-ultimate-fighter-15-finale', 'https://www.tapology.com/fightcenter/events/12168-ufc-146', 'https://www.tapology.com/fightcenter/events/12320-ufc-on-fx-3', 'https://www.tapology.com/fightcenter/events/12189-ufc-on-fox', 'https://www.tapology.com/fightcenter/events/11785-ufc-145', 'https://www.tapology.com/fightcenter/events/12026-ufc-on-fuel-tv-2', 'https://www.tapology.com/fightcenter/events/33212-the-ultimate-fighter-season-15', 'https://www.tapology.com/fightcenter/events/11619-ufc-on-fx-2', 'https://www.tapology.com/fightcenter/events/11293-ufc-144', 'https://www.tapology.com/fightcenter/events/11618-ufc-on-fuel-tv-1', 'https://www.tapology.com/fightcenter/events/11221-ufc-143', 'https://www.tapology.com/fightcenter/events/11400-ufc-on-fox-2', 'https://www.tapology.com/fightcenter/events/11366-ufc-on-fx-1', 'https://www.tapology.com/fightcenter/events/11196-ufc-142', 'https://www.tapology.com/fightcenter/events/10738-ufc-141', 'https://www.tapology.com/fightcenter/events/10374-ufc-140', 'https://www.tapology.com/fightcenter/events/9770-the-ultimate-fighter-14-finale', 'https://www.tapology.com/fightcenter/events/9822-ufc-138', 'https://www.tapology.com/fightcenter/events/10569-ufc-on-fox-1', 'https://www.tapology.com/fightcenter/events/10235-ufc-138', 'https://www.tapology.com/fightcenter/events/9660-ufc-137-st-pierre-vs-diaz', 'https://www.tapology.com/fightcenter/events/9765-ufc-136', 'https://www.tapology.com/fightcenter/events/10195-ufc-on-versus-6', 'https://www.tapology.com/fightcenter/events/9686-ufc-135', 'https://www.tapology.com/fightcenter/events/ufc-fight-night-25-battle-on-the-bayou', 'https://www.tapology.com/fightcenter/events/ufc-134-silva-vs-okami', 'https://www.tapology.com/fightcenter/events/ufc-on-versus-5', 'https://www.tapology.com/fightcenter/events/ufc-133', 'https://www.tapology.com/fightcenter/events/ufc-132-cruz-vs-faber-ii', 'https://www.tapology.com/fightcenter/events/ufc-on-versus-4-marquardt-vs-johnson', 'https://www.tapology.com/fightcenter/events/ufc-131-lesnar-vs-dos-santos', 'https://www.tapology.com/fightcenter/events/the-ultimate-fighter-13-finale', 'https://www.tapology.com/fightcenter/events/ufc-130-edgar-vs-maynard-3', 'https://www.tapology.com/fightcenter/events/ufc-129-st-pierre-vs-shields', 'https://www.tapology.com/fightcenter/events/ufc-fight-night-24', 'https://www.tapology.com/fightcenter/events/ufc-128-shogun-vs-jones', 'https://www.tapology.com/fightcenter/events/ufc-128-cancelled', 'https://www.tapology.com/fightcenter/events/ufc-on-versus-3-sanchez-vs-kampmann', 'https://www.tapology.com/fightcenter/events/34979-the-ultimate-fighter-season-13-team-lesnar-vs-team-dos-santos', 'https://www.tapology.com/fightcenter/events/ufc-127-penn-vs-fitch', 'https://www.tapology.com/fightcenter/events/34977-the-ultimate-fighter-season-13-team-lesnar-vs-team-dos-santos', 'https://www.tapology.com/fightcenter/events/34976-the-ultimate-fighter-season-13-team-lesnar-vs-team-dos-santos', 'https://www.tapology.com/fightcenter/events/34975-the-ultimate-fighter-season-13-team-lesnar-vs-team-dos-santos', 'https://www.tapology.com/fightcenter/events/34974-the-ultimate-fighter-season-13-team-lesnar-vs-team-dos-santos', 'https://www.tapology.com/fightcenter/events/34973-the-ultimate-fighter-season-13-team-lesnar-vs-team-dos-santos', 'https://www.tapology.com/fightcenter/events/34972-the-ultimate-fighter-season-13-team-lesnar-vs-team-dos-santos', 'https://www.tapology.com/fightcenter/events/ufc-126-silva-vs-belfort', 'https://www.tapology.com/fightcenter/events/34971-the-ultimate-fighter-season-13-team-lesnar-vs-team-dos-santos', 'https://www.tapology.com/fightcenter/events/34970-the-ultimate-fighter-season-13-team-lesnar-vs-team-dos-santos', 'https://www.tapology.com/fightcenter/events/34969-the-ultimate-fighter-season-13-team-lesnar-vs-team-dos-santos', 'https://www.tapology.com/fightcenter/events/ufc-fight-night-23-fight-for-the-troops-2', 'https://www.tapology.com/fightcenter/events/ufc-125-resolution', 'https://www.tapology.com/fightcenter/events/ufc-124-st-pierre-vs-koscheck-2', 'https://www.tapology.com/fightcenter/events/the-ultimate-fighter-12-finale', 'https://www.tapology.com/fightcenter/events/ufc-123-rampage-vs-machida', 'https://www.tapology.com/fightcenter/events/ufc-122-marquardt-vs-okami', 'https://www.tapology.com/fightcenter/events/ufc-121-lesnar-vs-velasquez', 'https://www.tapology.com/fightcenter/events/ufc-120-bisping-vs-akiyama', 'https://www.tapology.com/fightcenter/events/ufc-119-mir-vs-cro-cop', 'https://www.tapology.com/fightcenter/events/ufc-fight-night-22', 'https://www.tapology.com/fightcenter/events/ufc-118-edgar-vs-penn-2', 'https://www.tapology.com/fightcenter/events/ufc-117-silva-vs-sonnen', 'https://www.tapology.com/fightcenter/events/ufc-on-versus-2-jones-vs-matyushenko', 'https://www.tapology.com/fightcenter/events/34961-the-ultimate-fighter-season-12-team-gsp-vs-team-koscheck', 'https://www.tapology.com/fightcenter/events/34960-the-ultimate-fighter-season-12-team-gsp-vs-team-koscheck', 'https://www.tapology.com/fightcenter/events/33205-the-ultimate-fighter-season-12', 'https://www.tapology.com/fightcenter/events/ufc-116-lesnar-vs-carwin', 'https://www.tapology.com/fightcenter/events/34959-the-ultimate-fighter-season-12-team-gsp-vs-team-koscheck', 'https://www.tapology.com/fightcenter/events/34962-the-ultimate-fighter-season-12-team-gsp-vs-team-koscheck', 'https://www.tapology.com/fightcenter/events/34958-the-ultimate-fighter-season-12-team-gsp-vs-team-koscheck', 'https://www.tapology.com/fightcenter/events/34957-the-ultimate-fighter-season-12-team-gsp-vs-team-koscheck', 'https://www.tapology.com/fightcenter/events/the-ultimate-fighter-11-finale', 'https://www.tapology.com/fightcenter/events/34956-the-ultimate-fighter-season-12-team-gsp-vs-team-koscheck', 'https://www.tapology.com/fightcenter/events/34955-the-ultimate-fighter-season-12-team-gsp-vs-team-koscheck', 'https://www.tapology.com/fightcenter/events/ufc-115-liddell-vs-franklin', 'https://www.tapology.com/fightcenter/events/33206-the-ultimate-fighter-season-12', 'https://www.tapology.com/fightcenter/events/34953-the-ultimate-fighter-season-12-team-gsp-vs-team-koscheck', 'https://www.tapology.com/fightcenter/events/ufc-114-jackson-vs-evans', 'https://www.tapology.com/fightcenter/events/ufc-113-machida-vs-shogun-2', 'https://www.tapology.com/fightcenter/events/ufc-112-invincible', 'https://www.tapology.com/fightcenter/events/ufc-fight-night-21-florian-vs-gomi', 'https://www.tapology.com/fightcenter/events/ufc-111-st-pierre-vs-hardy', 'https://www.tapology.com/fightcenter/events/ufc-on-versus-1-vera-vs-jones', 'https://www.tapology.com/fightcenter/events/ufc-110-nogueira-vs-velasquez', 'https://www.tapology.com/fightcenter/events/ufc-109-relentless', 'https://www.tapology.com/fightcenter/events/ufc-fight-night-20-maynard-vs-diaz', 'https://www.tapology.com/fightcenter/events/ufc-108-evans-vs-silva', 'https://www.tapology.com/fightcenter/events/ufc-107-penn-vs-sanchez', 'https://www.tapology.com/fightcenter/events/the-ultimate-fighter-10-finale', 'https://www.tapology.com/fightcenter/events/ufc-106-ortiz-vs-griffin-2', 'https://www.tapology.com/fightcenter/events/ufc-105-couture-vs-vera', 'https://www.tapology.com/fightcenter/events/ufc-104-machida-vs-shogun', 'https://www.tapology.com/fightcenter/events/ufc-103-franklin-vs-belfort', 'https://www.tapology.com/fightcenter/events/ufc-fight-night-19-diaz-vs-guillard', 'https://www.tapology.com/fightcenter/events/ufc-102-couture-vs-nogueira', 'https://www.tapology.com/fightcenter/events/ufc-101-declaration', 'https://www.tapology.com/fightcenter/events/ufc-100', 'https://www.tapology.com/fightcenter/events/34784-the-ultimate-fighter-season-10-heavyweights', 'https://www.tapology.com/fightcenter/events/33208-the-ultimate-fighter-season-10', 'https://www.tapology.com/fightcenter/events/34783-the-ultimate-fighter-season-10-heavyweights', 'https://www.tapology.com/fightcenter/events/33207-the-ultimate-fighter-season-10', 'https://www.tapology.com/fightcenter/events/the-ultimate-fighter-9-finale', 'https://www.tapology.com/fightcenter/events/34782-the-ultimate-fighter-season-10-heavyweights', 'https://www.tapology.com/fightcenter/events/34781-the-ultimate-fighter-season-10-heavyweights', 'https://www.tapology.com/fightcenter/events/ufc-99-the-comeback', 'https://www.tapology.com/fightcenter/events/34780-the-ultimate-fighter-season-10-heavyweights', 'https://www.tapology.com/fightcenter/events/34779-the-ultimate-fighter-season-10-heavyweights', 'https://www.tapology.com/fightcenter/events/34777-the-ultimate-fighter-season-10-heavyweights', 'https://www.tapology.com/fightcenter/events/ufc-98-evans-vs-machida', 'https://www.tapology.com/fightcenter/events/ufc-97-redemption', 'https://www.tapology.com/fightcenter/events/ufc-fight-night-18-condit-vs-kampmann', 'https://www.tapology.com/fightcenter/events/ufc-96-jackson-vs-jardine', 'https://www.tapology.com/fightcenter/events/34457-the-ultimate-fighter-season-9-united-states-vs-united-kingdom', 'https://www.tapology.com/fightcenter/events/34456-the-ultimate-fighter-season-9-united-states-vs-united-kingdom', 'https://www.tapology.com/fightcenter/events/ufc-95-sanchez-vs-stevenson', 'https://www.tapology.com/fightcenter/events/34455-the-ultimate-fighter-season-9-united-states-vs-united-kingdom', 'https://www.tapology.com/fightcenter/events/34454-the-ultimate-fighter-season-9-united-states-vs-united-kingdom', 'https://www.tapology.com/fightcenter/events/34453-the-ultimate-fighter-season-9-united-states-vs-united-kingdom', 'https://www.tapology.com/fightcenter/events/ufc-fight-night-17-lauzon-vs-stephens', 'https://www.tapology.com/fightcenter/events/34452-the-ultimate-fighter-season-9-united-states-vs-united-kingdom', 'https://www.tapology.com/fightcenter/events/34451-the-ultimate-fighter-season-9-united-states-vs-united-kingdom', 'https://www.tapology.com/fightcenter/events/ufc-94-st-pierre-vs-penn-2', 'https://www.tapology.com/fightcenter/events/34450-the-ultimate-fighter-season-9-united-states-vs-united-kingdom', 'https://www.tapology.com/fightcenter/events/34449-the-ultimate-fighter-season-9-united-states-vs-united-kingdom', 'https://www.tapology.com/fightcenter/events/34448-the-ultimate-fighter-season-9-united-states-vs-united-kingdom', 'https://www.tapology.com/fightcenter/events/ufc-93-franklin-vs-henderson', 'https://www.tapology.com/fightcenter/events/ufc-92-the-ultimate-2008', 'https://www.tapology.com/fightcenter/events/the-ultimate-fighter-8-finale', 'https://www.tapology.com/fightcenter/events/ufc-fight-night-16-fight-for-the-troops', 'https://www.tapology.com/fightcenter/events/ufc-91-couture-vs-lesnar', 'https://www.tapology.com/fightcenter/events/ufc-90-silva-vs-cote', 'https://www.tapology.com/fightcenter/events/ufc-89-bisping-vs-leben', 'https://www.tapology.com/fightcenter/events/ufc-fight-night-15', 'https://www.tapology.com/fightcenter/events/ufc-88-breakthrough', 'https://www.tapology.com/fightcenter/events/ufc-87-seek-and-destroy', 'https://www.tapology.com/fightcenter/events/ufc-fight-night-14-silva-vs-irvin', 'https://www.tapology.com/fightcenter/events/ufc-86-jackson-vs-griffin', 'https://www.tapology.com/fightcenter/events/34412-the-ultimate-fighter-season-8-team-nogueira-vs-team-mir', 'https://www.tapology.com/fightcenter/events/33339-the-ultimate-fighter-season-8', 'https://www.tapology.com/fightcenter/events/the-ultimate-fighter-7-finale', 'https://www.tapology.com/fightcenter/events/34411-the-ultimate-fighter-season-8-team-nogueira-vs-team-mir', 'https://www.tapology.com/fightcenter/events/34410-the-ultimate-fighter-season-8-team-nogueira-vs-team-mir', 'https://www.tapology.com/fightcenter/events/34409-the-ultimate-fighter-season-8-team-nogueira-vs-team-mir', 'https://www.tapology.com/fightcenter/events/34408-the-ultimate-fighter-season-8-team-nogueira-vs-team-mir', 'https://www.tapology.com/fightcenter/events/34407-the-ultimate-fighter-season-8-team-nogueira-vs-team-mir', 'https://www.tapology.com/fightcenter/events/ufc-85-bedlam', 'https://www.tapology.com/fightcenter/events/34406-the-ultimate-fighter-season-8-team-nogueira-vs-team-mir', 'https://www.tapology.com/fightcenter/events/33340-the-ultimate-fighter-season-8', 'https://www.tapology.com/fightcenter/events/34405-the-ultimate-fighter-season-8-team-nogueira-vs-team-mir', 'https://www.tapology.com/fightcenter/events/ufc-84-ill-will', 'https://www.tapology.com/fightcenter/events/33341-the-ultimate-fighter-season-8', 'https://www.tapology.com/fightcenter/events/ufc-83-serra-vs-st-pierre-2', 'https://www.tapology.com/fightcenter/events/34162-the-ultimate-fighter-season-7-team-rampage-vs-team-forrest', 'https://www.tapology.com/fightcenter/events/ufc-fight-night-13-florian-vs-lauzon', 'https://www.tapology.com/fightcenter/events/34161-the-ultimate-fighter-season-7-team-rampage-vs-team-forrest', 'https://www.tapology.com/fightcenter/events/ufc-82-pride-of-a-champion', 'https://www.tapology.com/fightcenter/events/34160-the-ultimate-fighter-season-7-team-rampage-vs-team-forrest', 'https://www.tapology.com/fightcenter/events/34159-the-ultimate-fighter-season-7-team-rampage-vs-team-forrest', 'https://www.tapology.com/fightcenter/events/34158-the-ultimate-fighter-season-7-team-rampage-vs-team-forrest', 'https://www.tapology.com/fightcenter/events/34156-the-ultimate-fighter-season-7-team-rampage-vs-team-forrest', 'https://www.tapology.com/fightcenter/events/34155-the-ultimate-fighter-season-7-team-rampage-vs-team-forrest', 'https://www.tapology.com/fightcenter/events/34154-the-ultimate-fighter-season-7-team-rampage-vs-team-forrest', 'https://www.tapology.com/fightcenter/events/34153-the-ultimate-fighter-season-7-team-rampage-vs-team-forrest', 'https://www.tapology.com/fightcenter/events/ufc-81-breaking-point', 'https://www.tapology.com/fightcenter/events/34152-the-ultimate-fighter-season-7-team-rampage-vs-team-forrest', 'https://www.tapology.com/fightcenter/events/34151-the-ultimate-fighter-season-7-team-rampage-vs-team-forrest', 'https://www.tapology.com/fightcenter/events/ufc-fight-night-12-swick-vs-burkman', 'https://www.tapology.com/fightcenter/events/ufc-80-rapid-fire', 'https://www.tapology.com/fightcenter/events/ufc-79-nemesis', 'https://www.tapology.com/fightcenter/events/the-ultimate-fighter-6-finale', 'https://www.tapology.com/fightcenter/events/ufc-78-validation', 'https://www.tapology.com/fightcenter/events/ufc-77-hostile-territory', 'https://www.tapology.com/fightcenter/events/ufc-76-knockout', 'https://www.tapology.com/fightcenter/events/ufc-fight-night-11-thomas-vs-florian', 'https://www.tapology.com/fightcenter/events/ufc-75-champion-vs-champion', 'https://www.tapology.com/fightcenter/events/ufc-74-respect', 'https://www.tapology.com/fightcenter/events/34150-the-ultimate-fighter-season-6-team-hughes-vs-team-serra', 'https://www.tapology.com/fightcenter/events/34149-the-ultimate-fighter-season-6-team-hughes-vs-team-serra', 'https://www.tapology.com/fightcenter/events/ufc-73-stacked', 'https://www.tapology.com/fightcenter/events/34148-the-ultimate-fighter-season-6-team-hughes-vs-team-serra', 'https://www.tapology.com/fightcenter/events/34147-the-ultimate-fighter-season-6-team-hughes-vs-team-serra', 'https://www.tapology.com/fightcenter/events/34146-the-ultimate-fighter-season-6-team-hughes-vs-team-serra', 'https://www.tapology.com/fightcenter/events/34145-the-ultimate-fighter-season-6-team-hughes-vs-team-serra', 'https://www.tapology.com/fightcenter/events/the-ultimate-fighter-5-finale', 'https://www.tapology.com/fightcenter/events/34144-the-ultimate-fighter-season-6-team-hughes-vs-team-serra', 'https://www.tapology.com/fightcenter/events/34143-the-ultimate-fighter-season-6-team-hughes-vs-team-serra', 'https://www.tapology.com/fightcenter/events/ufc-72-victory', 'https://www.tapology.com/fightcenter/events/34142-the-ultimate-fighter-season-6-team-hughes-vs-team-serra', 'https://www.tapology.com/fightcenter/events/ufc-fight-night-10-stout-vs-fisher', 'https://www.tapology.com/fightcenter/events/34141-the-ultimate-fighter-season-5-team-hughes-vs-team-serra', 'https://www.tapology.com/fightcenter/events/6617-genesis-fights-brawl-at-the-mall-6', 'https://www.tapology.com/fightcenter/events/ufc-71-liddell-vs-jackson', 'https://www.tapology.com/fightcenter/events/ufc-70-nations-collide', 'https://www.tapology.com/fightcenter/events/ufc-69-shootout', 'https://www.tapology.com/fightcenter/events/ufc-fight-night-9-stevenson-vs-guillard', 'https://www.tapology.com/fightcenter/events/ufc-68-uprising', 'https://www.tapology.com/fightcenter/events/34119-the-ultimate-fighter-season-5', 'https://www.tapology.com/fightcenter/events/34113-the-ultimate-fighter-season-5', 'https://www.tapology.com/fightcenter/events/34112-the-ultimate-fighter-season-5', 'https://www.tapology.com/fightcenter/events/34111-the-ultimate-fighter-season-5', 'https://www.tapology.com/fightcenter/events/34110-the-ultimate-fighter-season-5', 'https://www.tapology.com/fightcenter/events/6619-genesis-fights-brawl-at-the-mall-5', 'https://www.tapology.com/fightcenter/events/34109-the-ultimate-fighter-season-5', 'https://www.tapology.com/fightcenter/events/ufc-67-all-or-nothing', 'https://www.tapology.com/fightcenter/events/34108-the-ultimate-fighter-season-5', 'https://www.tapology.com/fightcenter/events/34107-the-ultimate-fighter-season-5', 'https://www.tapology.com/fightcenter/events/34106-the-ultimate-fighter-season-5', 'https://www.tapology.com/fightcenter/events/ufc-fight-night-8-evans-vs-salmon', 'https://www.tapology.com/fightcenter/events/ufc-66-liddell-vs-ortiz-2', 'https://www.tapology.com/fightcenter/events/ufc-fight-night-7-sanchez-vs-riggs', 'https://www.tapology.com/fightcenter/events/6614-genesis-fights-brawl-at-the-mall-4', 'https://www.tapology.com/fightcenter/events/ufc-65-bad-intentions', 'https://www.tapology.com/fightcenter/events/the-ultimate-fighter-4-finale', 'https://www.tapology.com/fightcenter/events/ufc-64-unstoppable', 'https://www.tapology.com/fightcenter/events/ufc-the-final-chapter-ortiz-vs-shamrock-3', 'https://www.tapology.com/fightcenter/events/ufc-63-hughes-vs-penn', 'https://www.tapology.com/fightcenter/events/ufc-62-liddell-vs-sobral', 'https://www.tapology.com/fightcenter/events/ufc-fight-night-6-sanchez-vs-parisyan', 'https://www.tapology.com/fightcenter/events/36297-genesis-fights-brawl-at-the-mall-3', 'https://www.tapology.com/fightcenter/events/ufc-61-bitter-rivals', 'https://www.tapology.com/fightcenter/events/ufc-fight-night-5-leben-vs-silva', 'https://www.tapology.com/fightcenter/events/33911-the-ultimate-fighter-season-4', 'https://www.tapology.com/fightcenter/events/33910-the-ultimate-fighter-season-4', 'https://www.tapology.com/fightcenter/events/the-ultimate-fighter-3-finale', 'https://www.tapology.com/fightcenter/events/33909-the-ultimate-fighter-season-4', 'https://www.tapology.com/fightcenter/events/33908-the-ultimate-fighter-season-4', 'https://www.tapology.com/fightcenter/events/33906-the-ultimate-fighter-season-4', 'https://www.tapology.com/fightcenter/events/33905-the-ultimate-fighter-season-4', 'https://www.tapology.com/fightcenter/events/33904-the-ultimate-fighter-season-4', 'https://www.tapology.com/fightcenter/events/33903-the-ultimate-fighter-season-4', 'https://www.tapology.com/fightcenter/events/33902-the-ultimate-fighter-season-4', 'https://www.tapology.com/fightcenter/events/ufc-60-hughes-vs-gracie', 'https://www.tapology.com/fightcenter/events/33901-the-ultimate-fighter-season-4-the-comeback', 'https://www.tapology.com/fightcenter/events/ufc-59-reality-check', 'https://www.tapology.com/fightcenter/events/ufc-fight-night-4', 'https://www.tapology.com/fightcenter/events/7361-ufcf-brawl-at-the-mall-2', 'https://www.tapology.com/fightcenter/events/ufc-58-usa-vs-canada', 'https://www.tapology.com/fightcenter/events/33899-the-ultimate-fighter-season-3', 'https://www.tapology.com/fightcenter/events/33898-the-ultimate-fighter-season-3', 'https://www.tapology.com/fightcenter/events/33897-the-ultimate-fighter-season-3', 'https://www.tapology.com/fightcenter/events/33896-the-ultimate-fighter-season-3', 'https://www.tapology.com/fightcenter/events/33895-the-ultimate-fighter-season-3', 'https://www.tapology.com/fightcenter/events/33894-the-ultimate-fighter-season-3', 'https://www.tapology.com/fightcenter/events/33893-the-ultimate-fighter-season-3', 'https://www.tapology.com/fightcenter/events/33892-the-ultimate-fighter-season-3', 'https://www.tapology.com/fightcenter/events/ufc-57-liddell-vs-couture-3', 'https://www.tapology.com/fightcenter/events/33891-the-ultimate-fighter-season-3', 'https://www.tapology.com/fightcenter/events/33890-the-ultimate-fighter-season-3', 'https://www.tapology.com/fightcenter/events/33889-the-ultimate-fighter-season-3', 'https://www.tapology.com/fightcenter/events/33888-the-ultimate-fighter-season-3', 'https://www.tapology.com/fightcenter/events/ufc-fight-night-3', 'https://www.tapology.com/fightcenter/events/ufc-56-full-force', 'https://www.tapology.com/fightcenter/events/the-ultimate-fighter-2-finale', 'https://www.tapology.com/fightcenter/events/ufc-55-fury', 'https://www.tapology.com/fightcenter/events/ufc-fight-night-2', 'https://www.tapology.com/fightcenter/events/ufc-54-boiling-point', 'https://www.tapology.com/fightcenter/events/ufc-fight-night-1', 'https://www.tapology.com/fightcenter/events/33887-the-ultimate-fighter-season-2', 'https://www.tapology.com/fightcenter/events/33886-the-ultimate-fighter-season-2', 'https://www.tapology.com/fightcenter/events/33885-the-ultimate-fighter-season-2', 'https://www.tapology.com/fightcenter/events/33884-the-ultimate-fighter-season-2', 'https://www.tapology.com/fightcenter/events/33883-the-ultimate-fighter-season-2', 'https://www.tapology.com/fightcenter/events/33882-the-ultimate-fighter-season-2', 'https://www.tapology.com/fightcenter/events/33881-the-ultimate-fighter-season-2', 'https://www.tapology.com/fightcenter/events/33880-the-ultimate-fighter-season-2', 'https://www.tapology.com/fightcenter/events/33879-the-ultimate-fighter-season-2', 'https://www.tapology.com/fightcenter/events/33878-the-ultimate-fighter-season-2', 'https://www.tapology.com/fightcenter/events/ufc-53-heavy-hitters', 'https://www.tapology.com/fightcenter/events/ufc-52-couture-vs-liddell-2', 'https://www.tapology.com/fightcenter/events/the-ultimate-fighter-1-finale', 'https://www.tapology.com/fightcenter/events/ufc-51-super-saturday', 'https://www.tapology.com/fightcenter/events/81328-ufc-51-ultimate-japan-4', 'https://www.tapology.com/fightcenter/events/33876-the-ultimate-fighter-season-1', 'https://www.tapology.com/fightcenter/events/33875-the-ultimate-fighter-season-1', 'https://www.tapology.com/fightcenter/events/33874-the-ultimate-fighter-season-1', 'https://www.tapology.com/fightcenter/events/33873-the-ultimate-fighter-season-1', 'https://www.tapology.com/fightcenter/events/33872-the-ultimate-fighter-season-1', 'https://www.tapology.com/fightcenter/events/ufc-50-the-war-of-04', 'https://www.tapology.com/fightcenter/events/33871-the-ultimate-fighter-season-1', 'https://www.tapology.com/fightcenter/events/33870-the-ultimate-fighter-season-1', 'https://www.tapology.com/fightcenter/events/33869-the-ultimate-fighter-season-1', 'https://www.tapology.com/fightcenter/events/33877-the-ultimate-fighter-season-1', 'https://www.tapology.com/fightcenter/events/33868-the-ultimate-fighter-season-1', 'https://www.tapology.com/fightcenter/events/ufc-49-unfinished-business', 'https://www.tapology.com/fightcenter/events/ufc-48-payback', 'https://www.tapology.com/fightcenter/events/ufc-47-its-on', 'https://www.tapology.com/fightcenter/events/ufc-46-supernatural', 'https://www.tapology.com/fightcenter/events/ufc-45-revolution', 'https://www.tapology.com/fightcenter/events/ufc-44-undisputed', 'https://www.tapology.com/fightcenter/events/5700-ufcf-summer-slam', 'https://www.tapology.com/fightcenter/events/ufc-43-meltdown', 'https://www.tapology.com/fightcenter/events/ufc-42-sudden-impact', 'https://www.tapology.com/fightcenter/events/ufc-41-onslaught', 'https://www.tapology.com/fightcenter/events/ufc-40-vendetta', 'https://www.tapology.com/fightcenter/events/ufc-39-the-warriors-return', 'https://www.tapology.com/fightcenter/events/ufc-38-brawl-at-the-hall', 'https://www.tapology.com/fightcenter/events/ufc-375-as-real-as-it-gets', 'https://www.tapology.com/fightcenter/events/ufc-37-high-impact', 'https://www.tapology.com/fightcenter/events/ufc-36-worlds-collide', 'https://www.tapology.com/fightcenter/events/ufc-35-throwdown', 'https://www.tapology.com/fightcenter/events/8626-ufcf-storm-2001', 'https://www.tapology.com/fightcenter/events/7491-ufcf-everett-extreme-challenge-4', 'https://www.tapology.com/fightcenter/events/ufc-34-high-voltage', 'https://www.tapology.com/fightcenter/events/ufc-33-victory-in-vegas', 'https://www.tapology.com/fightcenter/events/8445-ufcf-conquest-2001', 'https://www.tapology.com/fightcenter/events/1593-amc-fight-night-warrior-s-revenge', 'https://www.tapology.com/fightcenter/events/ufc-32-showdown-in-the-meadowlands', 'https://www.tapology.com/fightcenter/events/7966-ufcf-everett-extreme-challenge-3', 'https://www.tapology.com/fightcenter/events/ufc-31-locked-and-loaded', 'https://www.tapology.com/fightcenter/events/7445-ufcf-war-2001', 'https://www.tapology.com/fightcenter/events/994-ufcf-road-to-victory', 'https://www.tapology.com/fightcenter/events/6713-amc-return-of-the-gladiators-2', 'https://www.tapology.com/fightcenter/events/ufc-30-battle-on-the-boardwalk', 'https://www.tapology.com/fightcenter/events/ufc-29-defense-of-the-belts', 'https://www.tapology.com/fightcenter/events/7805-amc-fight-night-path-of-the-warrior', 'https://www.tapology.com/fightcenter/events/ufc-28-high-stakes', 'https://www.tapology.com/fightcenter/events/7446-ufcf-everett-extreme-challenge-2', 'https://www.tapology.com/fightcenter/events/87957-ufcf-battle-in-bellevue-4', 'https://www.tapology.com/fightcenter/events/98042-pfl-2-2023-regular-season', 'https://www.tapology.com/fightcenter/events/98306-kenshiro-vs-bomba', 'https://www.tapology.com/fightcenter/events/97008-rodriguez-vs-gonzalez', 'https://www.tapology.com/fightcenter/events/97269-stevenson-vs-yoshino', 'https://www.tapology.com/fightcenter/events/98472-fundora-vs-mendoza', 'https://www.tapology.com/fightcenter/events/98044-pfl-3-2023-regular-season', 'https://www.tapology.com/fightcenter/events/98557-lfa-156-fuller-vs-waters']\n"
          ]
        }
      ]
    },
    {
      "cell_type": "code",
      "source": [
        "#This function applies the gpi function to a single event link and returns a list of the bout links found in it\n",
        "\n",
        "\n",
        "def scrape_bout_links(event_link):\n",
        "  page = get_page_info(True, event_link)\n",
        "  bout_links = re.findall('/fightcenter/bouts/.+\"',page)\n",
        "  bout_links = ['https://www.tapology.com'+x for x in bout_links]\n",
        "  bout_links = [x.replace(\"\\\"\" , '') for x in bout_links]\n",
        "  bout_links = list(dict.fromkeys(bout_links))\n",
        "  return bout_links\n",
        "\n",
        "scrape_bout_links('https://www.tapology.com/fightcenter/events/92055-ufc-283')"
      ],
      "metadata": {
        "id": "WQpfjZTMHyHE",
        "colab": {
          "base_uri": "https://localhost:8080/"
        },
        "outputId": "d68a663b-eabf-44f0-9fff-ab48d6e20b81"
      },
      "execution_count": null,
      "outputs": [
        {
          "output_type": "execute_result",
          "data": {
            "text/plain": [
              "['https://www.tapology.com/fightcenter/bouts/716441-ufc-283-glover-teixeira-vs-jamahal-sweet-dreams-hill',\n",
              " 'https://www.tapology.com/fightcenter/bouts/691523-ufc-283-deiveson-deus-da-guerra-figueiredo-vs-brandon-the-assassin-baby-moreno-iv',\n",
              " 'https://www.tapology.com/fightcenter/bouts/710633-ufc-283-gilbert-durinho-burns-vs-neil-haitian-sensation-magny',\n",
              " 'https://www.tapology.com/fightcenter/bouts/699830-ufc-283-jessica-bate-estaca-andrade-vs-lucky-lauren-murphy',\n",
              " 'https://www.tapology.com/fightcenter/bouts/696569-ufc-283-paul-bearjew-craig-vs-johnny-walker',\n",
              " 'https://www.tapology.com/fightcenter/bouts/695135-ufc-283-mauricio-shogun-rua-vs-ihor-duelist-potieria',\n",
              " 'https://www.tapology.com/fightcenter/bouts/724990-ufc-283-gregory-robocop-rodrigues-vs-brunno-the-hulk-ferreira',\n",
              " 'https://www.tapology.com/fightcenter/bouts/724082-ufc-283-thiago-moises-vs-melquizael-melk-costa',\n",
              " 'https://www.tapology.com/fightcenter/bouts/691284-ufc-283-gabriel-marretinha-bonfim-vs-mounir-the-sniper-lazzez',\n",
              " 'https://www.tapology.com/fightcenter/bouts/704136-ufc-283-jailton-malhadinho-almeida-vs-shamil-abrek-abdurakhimov',\n",
              " 'https://www.tapology.com/fightcenter/bouts/715100-ufc-283-luan-luiz-lacerda-vs-cody-spartan-stamann',\n",
              " 'https://www.tapology.com/fightcenter/bouts/703620-ufc-283-terrance-t-wrecks-mckinney-vs-ismael-marreta-bonfim',\n",
              " 'https://www.tapology.com/fightcenter/bouts/706004-ufc-283-warlley-alves-vs-nicolas-danish-dynamite-dalby',\n",
              " 'https://www.tapology.com/fightcenter/bouts/692196-ufc-283-josiane-josi-nunes-vs-zarah-infinite-fairn',\n",
              " 'https://www.tapology.com/fightcenter/bouts/716759-ufc-283-daniel-soncora-marcos-vs-saimon-oliveira',\n",
              " 'https://www.tapology.com/fightcenter/bouts/692197-ufc-283-brad-tavares-vs-gregory-robocop-rodrigues',\n",
              " 'https://www.tapology.com/fightcenter/bouts/704494-ufc-283-thiago-moises-vs-georgian-viking-guram-kutateladze']"
            ]
          },
          "metadata": {},
          "execution_count": 2
        }
      ]
    },
    {
      "cell_type": "markdown",
      "source": [
        "# Scraping data from bout page"
      ],
      "metadata": {
        "id": "sToEfKM8eoOr"
      }
    },
    {
      "cell_type": "code",
      "source": [
        "#This function requests the html from a bout link and returns four lists that contain the information about the fight and the fighters.\n",
        "\n",
        "def get_info(with_user_agent: bool, url):\n",
        "    user_agents = ['Mozilla/5.0 (X11; Linux x86_64; rv:86.0) Gecko/20100101 Firefox/86.0','Mozilla/5.0 (Windows NT 10.0; Win64; x64) AppleWebKit/537.36 (KHTML, like Gecko) Chrome/42.0.2311.135 Safari/537.36 Edge/12.246', 'Mozilla/5.0 (Windows NT 6.1; WOW64) AppleWebKit/537.36 (KHTML, like Gecko) Chrome/47.0.2526.111 Safari/537.36','Mozilla/5.0 (Macintosh; Intel Mac OS X 10_11_2) AppleWebKit/601.3.9 (KHTML, like Gecko) Version/9.0.2 Safari/601.3.9','Mozilla/5.0 (X11; Ubuntu; Linux x86_64; rv:15.0) Gecko/20100101 Firefox/15.0.1','Mozilla/5.0 (X11; CrOS x86_64 8172.45.0) AppleWebKit/537.36 (KHTML, like Gecko) Chrome/51.0.2704.64 Safari/537.36']\n",
        "    if with_user_agent:\n",
        "        random_user = random.randint(0,5)\n",
        "        headers = {'User-Agent': user_agents[random_user]}\n",
        "    else:\n",
        "        headers = {}\n",
        "    r = get(url, headers=headers)\n",
        "    r.raise_for_status()\n",
        "\n",
        "    soup = BeautifulSoup(r.text, features='html.parser')\n",
        "    rbout = soup.select('.navLinks span')\n",
        "    rnames = soup.select('.fighterNames span')\n",
        "    rinfos = soup.select('.boutComparisonTable')\n",
        "    rresult = soup.select('.boutResultHolder h4')\n",
        "    bout = []\n",
        "    names = []\n",
        "    infos = []\n",
        "    result = []\n",
        "    count=0\n",
        "    for n in rbout:\n",
        "      bout.append(n.text.strip())\n",
        "    for m in rnames:\n",
        "      names.append(m.text.strip())\n",
        "    for l in rinfos:\n",
        "      infos.append(l.text.strip())\n",
        "    for n in rresult:\n",
        "      n = str(n)\n",
        "      n = n.replace('<h4>','')\n",
        "      n = n.replace('</h4>','')\n",
        "      n = n.strip()\n",
        "      result.append(n)\n",
        "    return bout, names, infos, result\n",
        "\n",
        "get_info(True,'https://www.tapology.com/fightcenter/bouts/716441-ufc-283-glover-teixeira-vs-jamahal-sweet-dreams-hill')"
      ],
      "metadata": {
        "id": "QwsO0aTCP39s",
        "colab": {
          "base_uri": "https://localhost:8080/"
        },
        "outputId": "3029c03c-fb19-4128-eb89-cc64605c3a46"
      },
      "execution_count": null,
      "outputs": [
        {
          "output_type": "execute_result",
          "data": {
            "text/plain": [
              "(['UFC 283: Teixeira vs. Hill\\n\\xa0 | \\xa0 2023.01.21\\n\\xa0 | \\xa0\\nRio de Janeiro, Rio de Janeiro, Brazil',\n",
              "  'Discussion'],\n",
              " ['Jamahal Hill', 'Glover Teixeira', '\"Sweet Dreams\"', ''],\n",
              " ['11-1-0\\n\\n\\xa0\\nPro Record At Fight\\n\\xa0\\n\\n33-8-0\\n\\n\\n\\n\\nClimbed to 12-1\\n\\n\\xa0\\nRecord After Fight\\n\\xa0\\n\\nFell to 33-9\\n\\n\\n\\n-140 (Slight Favorite)\\n\\xa0\\nBetting Odds\\n\\xa0\\n+120 (Near Even)\\n\\n\\nVacant\\n\\xa0\\nTitle\\n\\xa0\\nVacant\\n\\n\\n\\n\\nUnited States\\n\\n\\xa0\\nNationality\\n\\xa0\\n\\n\\nBrazil\\n\\n\\n\\nMichigan\\n\\xa0\\nFighting out of\\n\\xa0\\nBethel, Connecticut\\n\\n\\n31 years, 8 months, 2 days\\n\\xa0\\nAge at Fight\\n\\xa0\\n43 years, 2 months, 3 weeks, 3 days\\n\\n\\n204.5 lbs (92.8 kgs)\\n\\xa0\\nWeigh-In Result\\n\\xa0\\n205.0 lbs (93.0 kgs)\\n\\n\\n6\\'4\" (193cm)\\n\\xa0\\nHeight\\n\\xa0\\n6\\'2\" (188cm)\\n\\n\\n79.0\" (201cm)\\n\\xa0\\nReach\\n\\xa0\\n76.0\" (193cm)\\n\\n\\n\\n\\xa0\\nGym\\n\\xa0\\nTeixeira MMA & Fitness'],\n",
              " ['Jamahal Hill defeats Glover Teixeira via 5 Round Decision'])"
            ]
          },
          "metadata": {},
          "execution_count": 3
        }
      ]
    },
    {
      "cell_type": "markdown",
      "source": [
        "# Organizing bout info and adding to lists"
      ],
      "metadata": {
        "id": "nPI2qzgRe1VI"
      }
    },
    {
      "cell_type": "code",
      "source": [
        "#These two functions parse the lists returned by the gi function \n",
        "#(specifically the first and third ones, which contain the fights location and date, and the fighters tale of the tape)\n",
        "\n",
        "def parse_bout(bout_raw_string):\n",
        "  \n",
        "  bout_string = bout_raw_string.replace(u'\\xa0', u' ')\n",
        "  bout_string = bout_string.replace(u'\\n', u' ') \n",
        "  bout_string = bout_string.replace('|', ' ')\n",
        "  bout_list = []\n",
        "  bout_list.append(re.match('(^.+)(?:\\s{2,}[0-9]+\\.[0-9]+\\.[0-9]+)',bout_string).groups()[0].strip())\n",
        "  bout_list.append(re.search('[0-9]+\\.[0-9]+\\.[0-9]+',bout_string).group(0))\n",
        "  bout_list.append(re.match('(?:^.+)(?:\\s{3,}[0-9]+\\.[0-9]+\\.[0-9]+)(.*$)',bout_string).groups(0)[0].strip())\n",
        "  return bout_list\n",
        "\n",
        "def parse_infos(raw_infos):\n",
        "  info_list0 = []\n",
        "  for info in raw_infos:\n",
        "    infos = info.replace(u'\\xa0', u' ')\n",
        "    infos = infos.replace(u'\\n', u' ') \n",
        "    info_list0.append(infos)\n",
        "  info_list = [info_list0[0].split(\"   \")]\n",
        "  info_list = [x.strip() for x in info_list[0]]\n",
        "  return info_list\n",
        "\n",
        "\n",
        "#This function uses the two functions above recursively to take the html string of the bout page \n",
        "#and return four parsed lists with the information needed\n",
        "\n",
        "def collect_lists(website):\n",
        "  raw_bout_info = website[0][0]\n",
        "  raw_bout_comparison = website[2]\n",
        "  bout_info = parse_bout(raw_bout_info)\n",
        "  bout_names = website[1]\n",
        "  bout_comparison = parse_infos(raw_bout_comparison)\n",
        "  bout_result = website [3]\n",
        "  if 'Betting Odds' not in bout_comparison:\n",
        "    bout_comparison[bout_comparison.index('Pro Record At Fight')+2:bout_comparison.index('Pro Record At Fight')+4] = [None, 'Betting Odds', None]\n",
        "  return bout_info,bout_names,bout_comparison,bout_result\n",
        "\n",
        "\n",
        "\n",
        "#This function takes the four lists as arguments and adds them to a dictionary\n",
        "def infos_to_dic(bout,names,comparisons,results):\n",
        "  try:\n",
        "    dic = {         'F1_nickname':names[2],\n",
        "                    'F2_nickname':names[3],          \n",
        "                    'F1_nationality':comparisons[comparisons.index('Nationality')-1],\n",
        "                    'F2_nationality':comparisons[comparisons.index('Nationality')+1],                \n",
        "                    'F1_gym':comparisons[comparisons.index('Gym')-1],\n",
        "                    'F2_gym':comparisons[comparisons.index('Gym')+1]}\n",
        "                    \n",
        "  except:\n",
        "     dic = {        'F1_nickname':None,\n",
        "                    'F2_nickname':None,          \n",
        "                    'F1_nationality':None,\n",
        "                    'F2_nationality':None,                \n",
        "                    'F1_gym':None,\n",
        "                    'F2_gym':None}\n",
        "  try:\n",
        "    dic = {'event': bout[0],\n",
        "                    'date': bout[1],\n",
        "                    'location':bout[2],\n",
        "                    'F1_name':names[0],\n",
        "                    'F2_name':names[1],\n",
        "                    \n",
        "                    'F1_record':comparisons[comparisons.index('Pro Record At Fight')-1],\n",
        "                    'F2_record':comparisons[comparisons.index('Pro Record At Fight')+1],\n",
        "                    'F1_odds':comparisons[comparisons.index('Betting Odds')-1],\n",
        "                    'F2_odds':comparisons[comparisons.index('Betting Odds')+1],\n",
        "                    \n",
        "                    'F1_home':comparisons[comparisons.index('Fighting out of')-1],\n",
        "                    'F2_home':comparisons[comparisons.index('Fighting out of')+1],\n",
        "                    'F1_age':comparisons[comparisons.index('Age at Fight')-1],\n",
        "                    'F2_age':comparisons[comparisons.index('Age at Fight')+1],\n",
        "                    'F1_weigh_in':comparisons[comparisons.index('Weigh-In Result')-1],\n",
        "                    'F2_weigh_in':comparisons[comparisons.index('Weigh-In Result')+1],\n",
        "                    'F1_height':comparisons[comparisons.index('Height')-1],\n",
        "                    'F2_height':comparisons[comparisons.index('Height')+1],\n",
        "                    'F1_reach':comparisons[comparisons.index('Reach')-1],\n",
        "                    'F2_reach':comparisons[comparisons.index('Reach')+1],\n",
        "                    \n",
        "                    'result':results[0]}\n",
        "    print('\\nDictionary inserted successfully! Result of the fight:', dic['result'])                \n",
        "    return dic\n",
        "  except:\n",
        "    print('Error in trying to fit lists to dictionary #####', results,names,comparisons,bout)\n",
        "  \n",
        "\n",
        "#This function takes the address of the site and calls the previous funcions to return a dictionary with the bout information\n",
        "\n",
        "def site_to_dic(address):\n",
        "  site = get_info(True, address)\n",
        "  site1 = collect_lists(site)\n",
        "  site2 = infos_to_dic(*site1)\n",
        "  return site2\n",
        "site_to_dic('https://www.tapology.com/fightcenter/bouts/716441-ufc-283-glover-teixeira-vs-jamahal-sweet-dreams-hill')"
      ],
      "metadata": {
        "id": "GN3FTAdue8An",
        "colab": {
          "base_uri": "https://localhost:8080/"
        },
        "outputId": "e2b8ad4c-24e9-4960-ad71-40a28c10c794"
      },
      "execution_count": null,
      "outputs": [
        {
          "output_type": "stream",
          "name": "stdout",
          "text": [
            "\n",
            "Dictionary inserted successfully! Result of the fight: Jamahal Hill defeats Glover Teixeira via 5 Round Decision\n"
          ]
        },
        {
          "output_type": "execute_result",
          "data": {
            "text/plain": [
              "{'event': 'UFC 283: Teixeira vs. Hill',\n",
              " 'date': '2023.01.21',\n",
              " 'location': 'Rio de Janeiro, Rio de Janeiro, Brazil',\n",
              " 'F1_name': 'Jamahal Hill',\n",
              " 'F2_name': 'Glover Teixeira',\n",
              " 'F1_record': '11-1-0',\n",
              " 'F2_record': '33-8-0',\n",
              " 'F1_odds': '-140 (Slight Favorite)',\n",
              " 'F2_odds': '+120 (Near Even)',\n",
              " 'F1_home': 'Michigan',\n",
              " 'F2_home': 'Bethel, Connecticut',\n",
              " 'F1_age': '31 years, 8 months, 2 days',\n",
              " 'F2_age': '43 years, 2 months, 3 weeks, 3 days',\n",
              " 'F1_weigh_in': '204.5 lbs (92.8 kgs)',\n",
              " 'F2_weigh_in': '205.0 lbs (93.0 kgs)',\n",
              " 'F1_height': '6\\'4\" (193cm)',\n",
              " 'F2_height': '6\\'2\" (188cm)',\n",
              " 'F1_reach': '79.0\" (201cm)',\n",
              " 'F2_reach': '76.0\" (193cm)',\n",
              " 'result': 'Jamahal Hill defeats Glover Teixeira via 5 Round Decision'}"
            ]
          },
          "metadata": {},
          "execution_count": 4
        }
      ]
    },
    {
      "cell_type": "markdown",
      "source": [
        "# Scraping data from a whole event"
      ],
      "metadata": {
        "id": "zQMEINk2_uOf"
      }
    },
    {
      "cell_type": "code",
      "source": [
        "def get_event_links(event_link):\n",
        "  try:\n",
        "    bout_links = scrape_bout_links(event_link)\n",
        "    return bout_links\n",
        "    \n",
        "  except requests.exceptions.RequestException as e:\n",
        "    print(\"An error has occurred:\", e)\n",
        "    \n",
        "get_event_links(ufc_events_links[0])"
      ],
      "metadata": {
        "id": "x_exqQWp_4xW",
        "colab": {
          "base_uri": "https://localhost:8080/"
        },
        "outputId": "4a3a52fd-a3d6-4cf4-f00a-c3a3c451a96f"
      },
      "execution_count": null,
      "outputs": [
        {
          "output_type": "execute_result",
          "data": {
            "text/plain": [
              "[]"
            ]
          },
          "metadata": {},
          "execution_count": 5
        }
      ]
    },
    {
      "cell_type": "markdown",
      "source": [
        "# Getting data from all UFC events at the search page"
      ],
      "metadata": {
        "id": "Xa1QLqVcOUnr"
      }
    },
    {
      "cell_type": "code",
      "source": [
        "# df = pd.DataFrame(columns=['event','date','location','F1_name',\n",
        "#                     'F2_name','F1_nickname','F2_nickname','F1_record','F2_record','F1_odds','F2_odds',\n",
        "#                     'F1_nationality','F2_nationality','F1_home','F2_home','F1_age','F2_age',\n",
        "#                     'F1_weigh_in','F2_weigh_in','F1_height','F2_height','F1_reach','F2_reach','F1_gym','F2_gym','result'])\n",
        "#  # Load existing data from the CSV file if it exists\n",
        "\n",
        "# try:\n",
        "#      df = pd.read_csv('/content/drive/My Drive/mma_database.csv')\n",
        "# except FileNotFoundError:\n",
        "#      df = pd.DataFrame(columns=['event','date','location','F1_name',\n",
        "#                     'F2_name','F1_nickname','F2_nickname','F1_record','F2_record','F1_odds','F2_odds',\n",
        "#                     'F1_nationality','F2_nationality','F1_home','F2_home','F1_age','F2_age',\n",
        "#                     'F1_weigh_in','F2_weigh_in','F1_height','F2_height','F1_reach','F2_reach','F1_gym','F2_gym','result'])\n",
        "# # Start the crawling loop\n",
        "# for event in ufc_events_links:\n",
        "#   df.to_csv('/content/drive/My Drive/mma_database.csv', index=False)\n",
        "#   print(event)\n",
        "#   time.sleep(random.randint(1,5))\n",
        "#   bouts = get_event_links(event)\n",
        "#   for bout in bouts:\n",
        "#     time.sleep(random.randint(1,5))\n",
        "#     bout_info = site_to_dic(bout)\n",
        "#     df = df.append(bout_info, ignore_index=True)\n",
        "#     # Save the data to the CSV file\n",
        "#     df.to_csv('mma_database.csv', index=False)\n",
        "#     print('\\n', df.iloc[-1]['result'])\n"
      ],
      "metadata": {
        "id": "H84xtXVjOfla"
      },
      "execution_count": null,
      "outputs": []
    },
    {
      "cell_type": "code",
      "source": [
        "\n",
        "df = pd.DataFrame(columns=['event','date','location','F1_name',\n",
        "                   'F2_name','F1_nickname','F2_nickname','F1_record','F2_record','F1_odds','F2_odds',\n",
        "                   'F1_nationality','F2_nationality','F1_home','F2_home','F1_age','F2_age',\n",
        "                   'F1_weigh_in','F2_weigh_in','F1_height','F2_height','F1_reach','F2_reach','F1_gym','F2_gym','result'])\n",
        "\n",
        " #Load existing data from the CSV file if it exists\n",
        "try:\n",
        "     df = pd.read_csv('/content/drive/My Drive/mma_database.csv')\n",
        "except FileNotFoundError:\n",
        "     df = pd.DataFrame(columns=['event','date','location','F1_name',\n",
        "                    'F2_name','F1_nickname','F2_nickname','F1_record','F2_record','F1_odds','F2_odds',\n",
        "                    'F1_nationality','F2_nationality','F1_home','F2_home','F1_age','F2_age',\n",
        "                    'F1_weigh_in','F2_weigh_in','F1_height','F2_height','F1_reach','F2_reach','F1_gym','F2_gym','result'])\n",
        "\n",
        "first_link='https://www.tapology.com/fightcenter/events/93977-ufc-fight-night'\n",
        "last_link='https://www.tapology.com/fightcenter/events/92055-ufc-283'\n",
        "\n",
        "ufc_updated_links = ufc_events_links[ufc_events_links.index(first_link):ufc_events_links.index(last_link)]\n",
        "for event in ufc_updated_links:\n",
        "   df.to_csv('/content/drive/My Drive/mma_database.csv', index=False)\n",
        "   print(event)\n",
        "   if 'brawl-at-the-mall' in event or 'ufcf' in event or 'pfl' in event or 'lfa' in event or 'one' in event or 'foster' in event:\n",
        "     print('Brawl at the mall detected!')\n",
        "     continue\n",
        "   time.sleep(random.randint(3,9))\n",
        "   bouts = get_event_links(event)\n",
        "   for bout in bouts:\n",
        "     time.sleep(random.randint(4,8))\n",
        "     bout_info = site_to_dic(bout)\n",
        "     df = df.append(bout_info, ignore_index=True)\n",
        "     # Save the data to the CSV file\n",
        "     df.to_csv('mma_database.csv', index=False)\n",
        "     \n",
        "df.to_csv('/content/drive/My Drive/mma_database.csv', index=False)\n",
        "\n"
      ],
      "metadata": {
        "colab": {
          "base_uri": "https://localhost:8080/"
        },
        "id": "3hsRHj69XgfZ",
        "outputId": "d566629b-8c3b-420f-a7b7-f29ae8b40fb2"
      },
      "execution_count": null,
      "outputs": [
        {
          "output_type": "stream",
          "name": "stdout",
          "text": [
            "https://www.tapology.com/fightcenter/events/93977-ufc-fight-night\n",
            "\n",
            "Dictionary inserted successfully! Result of the fight: Serghei Spivac defeats Derrick Lewis via Submission at 3:05 of Round 1\n"
          ]
        },
        {
          "output_type": "stream",
          "name": "stderr",
          "text": [
            "<ipython-input-7-9a47c27c85e7>:31: FutureWarning: The frame.append method is deprecated and will be removed from pandas in a future version. Use pandas.concat instead.\n",
            "  df = df.append(bout_info, ignore_index=True)\n"
          ]
        },
        {
          "output_type": "stream",
          "name": "stdout",
          "text": [
            "\n",
            "Dictionary inserted successfully! Result of the fight: Devin Clark defeats Da Un Jung via 3 Round Decision\n"
          ]
        },
        {
          "output_type": "stream",
          "name": "stderr",
          "text": [
            "<ipython-input-7-9a47c27c85e7>:31: FutureWarning: The frame.append method is deprecated and will be removed from pandas in a future version. Use pandas.concat instead.\n",
            "  df = df.append(bout_info, ignore_index=True)\n"
          ]
        },
        {
          "output_type": "stream",
          "name": "stdout",
          "text": [
            "\n",
            "Dictionary inserted successfully! Result of the fight: Marcin Tybura defeats Blagoy Ivanov via 3 Round Decision\n"
          ]
        },
        {
          "output_type": "stream",
          "name": "stderr",
          "text": [
            "<ipython-input-7-9a47c27c85e7>:31: FutureWarning: The frame.append method is deprecated and will be removed from pandas in a future version. Use pandas.concat instead.\n",
            "  df = df.append(bout_info, ignore_index=True)\n"
          ]
        },
        {
          "output_type": "stream",
          "name": "stdout",
          "text": [
            "\n",
            "Dictionary inserted successfully! Result of the fight: Doo Ho Choi vs. Kyle Nelson ends in a Draw\n"
          ]
        },
        {
          "output_type": "stream",
          "name": "stderr",
          "text": [
            "<ipython-input-7-9a47c27c85e7>:31: FutureWarning: The frame.append method is deprecated and will be removed from pandas in a future version. Use pandas.concat instead.\n",
            "  df = df.append(bout_info, ignore_index=True)\n"
          ]
        },
        {
          "output_type": "stream",
          "name": "stdout",
          "text": [
            "\n",
            "Dictionary inserted successfully! Result of the fight: Adam Fugitt defeats Yusaku Kinoshita via KO/TKO at 4:36 of Round 1\n"
          ]
        },
        {
          "output_type": "stream",
          "name": "stderr",
          "text": [
            "<ipython-input-7-9a47c27c85e7>:31: FutureWarning: The frame.append method is deprecated and will be removed from pandas in a future version. Use pandas.concat instead.\n",
            "  df = df.append(bout_info, ignore_index=True)\n"
          ]
        },
        {
          "output_type": "stream",
          "name": "stdout",
          "text": [
            "\n",
            "Dictionary inserted successfully! Result of the fight: Anshul Jubli defeats Jeka Saragih via KO/TKO at 3:44 of Round 2\n"
          ]
        },
        {
          "output_type": "stream",
          "name": "stderr",
          "text": [
            "<ipython-input-7-9a47c27c85e7>:31: FutureWarning: The frame.append method is deprecated and will be removed from pandas in a future version. Use pandas.concat instead.\n",
            "  df = df.append(bout_info, ignore_index=True)\n"
          ]
        },
        {
          "output_type": "stream",
          "name": "stdout",
          "text": [
            "\n",
            "Dictionary inserted successfully! Result of the fight: Jeong Yeong Lee defeats Zha Yi via 3 Round Decision\n"
          ]
        },
        {
          "output_type": "stream",
          "name": "stderr",
          "text": [
            "<ipython-input-7-9a47c27c85e7>:31: FutureWarning: The frame.append method is deprecated and will be removed from pandas in a future version. Use pandas.concat instead.\n",
            "  df = df.append(bout_info, ignore_index=True)\n"
          ]
        },
        {
          "output_type": "stream",
          "name": "stdout",
          "text": [
            "\n",
            "Dictionary inserted successfully! Result of the fight: Rinya Nakamura defeats Toshiomi Kazama via KO/TKO at 0:33 of Round 1\n"
          ]
        },
        {
          "output_type": "stream",
          "name": "stderr",
          "text": [
            "<ipython-input-7-9a47c27c85e7>:31: FutureWarning: The frame.append method is deprecated and will be removed from pandas in a future version. Use pandas.concat instead.\n",
            "  df = df.append(bout_info, ignore_index=True)\n"
          ]
        },
        {
          "output_type": "stream",
          "name": "stdout",
          "text": [
            "\n",
            "Dictionary inserted successfully! Result of the fight: Hyun Sung Park defeats Seung Guk Choi via Submission at 3:11 of Round 3\n"
          ]
        },
        {
          "output_type": "stream",
          "name": "stderr",
          "text": [
            "<ipython-input-7-9a47c27c85e7>:31: FutureWarning: The frame.append method is deprecated and will be removed from pandas in a future version. Use pandas.concat instead.\n",
            "  df = df.append(bout_info, ignore_index=True)\n"
          ]
        },
        {
          "output_type": "stream",
          "name": "stdout",
          "text": [
            "\n",
            "Dictionary inserted successfully! Result of the fight: Jun Yong Park defeats Denis Tiuliulin via Submission at 4:05 of Round 1\n"
          ]
        },
        {
          "output_type": "stream",
          "name": "stderr",
          "text": [
            "<ipython-input-7-9a47c27c85e7>:31: FutureWarning: The frame.append method is deprecated and will be removed from pandas in a future version. Use pandas.concat instead.\n",
            "  df = df.append(bout_info, ignore_index=True)\n"
          ]
        },
        {
          "output_type": "stream",
          "name": "stdout",
          "text": [
            "\n",
            "Dictionary inserted successfully! Result of the fight: Tatsuro Taira defeats Jesus Aguilar via Submission at 4:20 of Round 1\n"
          ]
        },
        {
          "output_type": "stream",
          "name": "stderr",
          "text": [
            "<ipython-input-7-9a47c27c85e7>:31: FutureWarning: The frame.append method is deprecated and will be removed from pandas in a future version. Use pandas.concat instead.\n",
            "  df = df.append(bout_info, ignore_index=True)\n"
          ]
        },
        {
          "output_type": "stream",
          "name": "stdout",
          "text": [
            "Error in trying to fit lists to dictionary ##### [] ['Ji Yeon Kim', 'Mandy Böhm', '\"Fire Fist\"', '\"Monster\"'] ['9-6-2', 'Pro Record At Fight', '7-2-0', '-280 (Moderate Favorite)', 'Betting Odds', '+230 (Moderate Underdog)', 'South Korea', 'Nationality', 'Germany', 'Las Vegas, Nevada', 'Fighting out of', 'Gelsenkirchen, Germany', '33 years, 3 months, 2 weeks, 3 days', 'Age at Fight', '33 years, 6 months, 5 days', '125.5 lbs (56.9 kgs)', 'Weigh-In Result', '125.5 lbs (56.9 kgs)', '5\\'7\" (170cm)', 'Height', '5\\'7\" (170cm)', '72.0\" (183cm)', 'Reach', '71.0\" (180cm)', 'MOB Training Center', 'Gym', 'SBG Ireland'] ['UFC Fight Night: Lewis vs. Spivac', '2023.02.04', 'Las Vegas, Nevada']\n"
          ]
        },
        {
          "output_type": "stream",
          "name": "stderr",
          "text": [
            "<ipython-input-7-9a47c27c85e7>:31: FutureWarning: The frame.append method is deprecated and will be removed from pandas in a future version. Use pandas.concat instead.\n",
            "  df = df.append(bout_info, ignore_index=True)\n"
          ]
        }
      ]
    }
  ]
}